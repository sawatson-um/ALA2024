{
 "cells": [
  {
   "cell_type": "markdown",
   "id": "cde9e20c-7eb2-4b68-af1a-324666af60a3",
   "metadata": {},
   "source": [
    "# SCOPUS UM Pharmacy Paper Search"
   ]
  },
  {
   "cell_type": "markdown",
   "id": "47e54738-4421-44f1-844b-20cf90efc35c",
   "metadata": {},
   "source": [
    "Identify papers published by affiliates of the UM Pharmacy School for a specified time period. Generate a .ris file with citations for all journal articles published in the given time period."
   ]
  },
  {
   "cell_type": "markdown",
   "id": "27bb1670-bd29-4f8c-b1a3-489c05e5a4c4",
   "metadata": {},
   "source": [
    "**Important:** This code requires an Elsevier API key. Request one here: dev.elsevier.com. Also  be sure to install the *pybliometrics* library if you have not used it before."
   ]
  },
  {
   "cell_type": "markdown",
   "id": "85eedd52-c468-40b5-946b-91c6decae297",
   "metadata": {},
   "source": [
    "To use this code:\n",
    "1. Run the code cell below\n",
    "3. Provide the publication year and months when prompted\n",
    "\n",
    "**If you have not used pybliometrics library before,** the first time you execute this code it will prompt you for your Elsevier API key. Enter the key and press enter again to skip when it prompts you for an InstToken. Then re-run the cell.\n",
    "\n",
    "The .ris output will be generated in the same place that you have this notebook saved to (i.e. if the notebook is on your desktop, the .ris will also appear on your desktop). This file will be named \"UM_Pharmacy_Publications_{start_month}\\_to_{end_month}_{year}.ris\"\n",
    "\n",
    "*n.b.* If a there is a publication which is not a journal article, by default Pybliometrics will not generate a citation for the .ris file. I have added some additional code to this script which will generate RIS entries for books and book chapters. Other non-journal, non-book publications will be listed in the code output with their title, author, type, and DOI (if applicable). The code output will tell you how many publications this applies to for each search. Also, if a publication has an incorrect date in Scopus (usually listed as 01-01-{year}), this will be flagged. This flag is ignored during quarter 1 (Jan-Mar)."
   ]
  },
  {
   "cell_type": "markdown",
   "id": "fd66d8cc-d7d3-454d-8074-a1f748e57c95",
   "metadata": {},
   "source": [
    "## Run this cell:"
   ]
  },
  {
   "cell_type": "code",
   "execution_count": null,
   "id": "bca79b93-460d-4072-87e7-b53f75d30051",
   "metadata": {},
   "outputs": [],
   "source": [
    "from datetime import datetime\n",
    "from pybliometrics.scopus import ScopusSearch, AbstractRetrieval\n",
    "\n",
    "pub_year = input(\"Enter the publication year in the format YYYY:\")\n",
    "daterange = input(\"Is this search annual (A) or quarterly (Q)?\")\n",
    "\n",
    "if daterange.lower() in [\"annual\", \"a\"]:\n",
    "    range = \"annual\"\n",
    "    \n",
    "    search_query = f'(((AF-ID (60010491) AND (pharmacy OR \"biomolecular sciences\" OR \"natural products research\" OR pharmaceutics)) OR AF-ID (60020462) OR AF-ID (60030187)) \\\n",
    "    AND PUBYEAR = {pub_year})'\n",
    "    \n",
    "elif daterange.lower() in [\"quarterly\", \"q\"]:\n",
    "    range = \"quarter\"\n",
    "    quarter = input(\"Which quarter is it?\\nQ1 = Jan, Feb, Mar;\\nQ2 = Apr, May, June;\\nQ3 = July, Aug, Sept;\\nQ4 = Oct, Nov, Dec\\n\")\n",
    "    \n",
    "    if quarter.lower() in [\"1\", \"q1\"]:\n",
    "        pub_month1 = \"January\"\n",
    "        pub_month2 = \"February\"\n",
    "        pub_month3 = \"March\"\n",
    "    elif quarter.lower() in [\"2\", \"q2\"]:\n",
    "        pub_month1 = \"April\"\n",
    "        pub_month2 = \"May\"\n",
    "        pub_month3 = \"June\"\n",
    "    elif quarter.lower() in [\"3\", \"q3\"]:\n",
    "        pub_month1 = \"July\"\n",
    "        pub_month2 = \"August\"\n",
    "        pub_month3 = \"September\"\n",
    "    elif quarter.lower() in [\"4\", \"q4\"]:\n",
    "        pub_month1 = \"October\"\n",
    "        pub_month2 = \"November\"\n",
    "        pub_month3 = \"December\"\n",
    "    elif quarter.lower() not in [\"1\", \"2\", \"3\", \"4\", \"q1\", \"q2\", \"q3\", \"q4\"]:\n",
    "        raise Exeception(\"Input not recognized, please try again.\")\n",
    "        \n",
    "    search_query = f'(((AF-ID (60010491) AND (pharmacy OR \"biomolecular sciences\" OR \"natural products research\" OR pharmaceutics)) OR AF-ID (60020462) OR AF-ID (60030187)) \\\n",
    "    AND PUBDATETXT ( \"{pub_month1} {pub_year}\" OR \"{pub_month2} {pub_year}\" OR \"{pub_month3} {pub_year}\" ) \\\n",
    "    AND PUBYEAR = {pub_year})'\n",
    "    \n",
    "elif daterange.lower() not in [\"annual\",\"a\", \"quarterly\", \"q\"]:\n",
    "    raise Exeception(\"Input not recognized, please try again.\")\n",
    "\n",
    "start = datetime.now().replace(microsecond = 0)  # start timing the run\n",
    "\n",
    "s = ScopusSearch(search_query)\n",
    "print(f'\\nNumber of search results: {len(s.results)}')\n",
    "\n",
    "if range == \"annual\":\n",
    "    filename = f'UM_Pharmacy_Publications_{pub_year}.ris'\n",
    "elif range == \"quarter\":\n",
    "    filename = f'UM_Pharmacy_Publications_{pub_month1}_to_{pub_month3}_{pub_year}.ris'\n",
    "\n",
    "outfile = open(filename, 'w', encoding = 'utf-8')\n",
    "\n",
    "count = 0\n",
    "exception_count = 0\n",
    "exceptions_list = []\n",
    "\n",
    "for i in s.results:\n",
    "    if i.aggregationType == \"Journal\":\n",
    "        try:  # get abstract information in RIS format for a given Elsevier ID number\n",
    "            citation = AbstractRetrieval(identifier = i[1], id_type = \"doi\").get_ris()\n",
    "            outfile.write(citation)\n",
    "            count = count + 1\n",
    "        except:\n",
    "            exception_count = exception_count + 1\n",
    "            ris = f\"TY  - JOUR\\nTI  - {i.title}\\nJO  - {i.publicationName}\"\\\n",
    "              f\"\\nVL  - {i.volume}\\nDA  - {i.coverDate}\\n\"\\\n",
    "              f\"PY  - {i.coverDate[0:4]}\\nSP  - {i.pageRange}\\n\"\n",
    "        # Authors\n",
    "            author_list = i.author_names.split(\";\")\n",
    "            for au in author_list:\n",
    "                ris += f'AU  - {au}\\n'\n",
    "            # DOI\n",
    "            if i.doi:\n",
    "                ris += f'DO  - {i.doi}\\nUR  - https://doi.org/{i.doi}\\n'\n",
    "            # Issue\n",
    "            if i.issueIdentifier:\n",
    "                ris += f'IS  - {i.issueIdentifier}\\n'\n",
    "            ris += 'ER  - \\n\\n'\n",
    "            \n",
    "            outfile.write(ris)\n",
    "            \n",
    "            exceptions_list.append(f'Title: {i.title}\\n\\\n",
    "Authors: {author_list}\\n\\\n",
    "Type: {i.aggregationType}\\n\\\n",
    "Subtype: {i.subtypeDescription}\\n\\\n",
    "Publication Name: {i.publicationName}\\n\\\n",
    "DOI:{i.doi}\\n')\n",
    "\n",
    "print(f\"Successfully generated references for {count} journal articles.\",\"\\n\")\n",
    "\n",
    "if exception_count > 0:\n",
    "    print(f\"{exception_count} journal articles generated an error in the code, usually as the result of a missing DOI.\\n\\\n",
    "They have been added to the RIS file via another mechanism; you may want to check them manually:\\n\")\n",
    "    \n",
    "    for item in exceptions_list:\n",
    "        print(item)\n",
    "\n",
    "book = 0\n",
    "chapter = 0\n",
    "\n",
    "for i in s.results:  # list non-journal publications which are not in the .ris file\n",
    "    if i.aggregationType != \"Journal\":\n",
    "        if i.subtypeDescription == \"Book\":\n",
    "            # Basic information\n",
    "            ris = f\"TY  - BOOK\\nTI  - {i.title}\"\\\n",
    "                  f\"\\nDA  - {i.coverDate}\\n\"\\\n",
    "                  f\"PY  - {i.coverDate[0:4]}\\nSP  - {i.pageRange}\\n\"\n",
    "            # Authors\n",
    "            author_list = i.author_names.split(\";\")\n",
    "            for au in author_list:\n",
    "                ris += f'AU  - {au}\\n'\n",
    "            # DOI\n",
    "            if i.doi:\n",
    "                ris += f'DO  - {i.doi}\\nUR  - https://doi.org/{i.doi}\\n'\n",
    "            ris += 'ER  - \\n\\n'\n",
    "            \n",
    "            outfile.write(ris)\n",
    "            book += 1\n",
    "        \n",
    "        elif i.subtypeDescription == 'Book Chapter':\n",
    "            # Basic information\n",
    "            ris = f\"TY  - CHAP\\nTI  - {i.title}\"\\\n",
    "                  f\"\\nT2  - {i.publicationName}\\nDA  - {i.coverDate}\\n\"\\\n",
    "                  f\"PY  - {i.coverDate[0:4]}\\nSP  - {i.pageRange}\\n\"\n",
    "            # Authors\n",
    "            author_list = i.author_names.split(\";\")\n",
    "            for au in author_list:\n",
    "                ris += f'AU  - {au}\\n'\n",
    "            # DOI\n",
    "            if i.doi:\n",
    "                ris += f'DO  - {i.doi}\\nUR  - https://doi.org/{i.doi}\\n'\n",
    "            ris += 'ER  - \\n\\n'\n",
    "            \n",
    "            outfile.write(ris)\n",
    "            chapter += 1\n",
    "\n",
    "outfile.close()\n",
    "if book > 0 or chapter > 0:  \n",
    "    print(f\"Done generating {book} book references and {chapter} book chapter references.\\n\\n\\\n",
    "A total of {count + exception_count + book + chapter} items have been added to the RIS file.\")\n",
    "\n",
    "if (len(s.results) - count - exception_count - book - chapter) != 0:\n",
    "    print(f\"{len(s.results) - count - exception_count - book - chapter} other types of publications were found for this date range:\\n\")\n",
    "\n",
    "other = 0\n",
    "for i in s.results:  # list non-journal publications which are not in the .ris file\n",
    "    if i.aggregationType != \"Journal\" and (i.aggregationType != \"Book Series\" and i.subtypeDescription != \"Book\") and (i.aggregationType != \"Book Series\" and i.subtypeDescription != \"Book Chapter\"):\n",
    "        print(f'Title: {i.title}\\nAuthors: {author_list}\\nType: {i.aggregationType}\\nSubtype: {i.subtypeDescription}\\nDOI:{i.doi}\\n')\n",
    "        other += 1\n",
    "\n",
    "for i in s.results:\n",
    "    if range == \"quarter\" and i.coverDate == f'{pub_year}-01-01' and quarter.lower() not in [\"1\", \"q1\"]:\n",
    "        author_list = i.author_names.split(\";\")\n",
    "        print(f\"\\nThese publications may have no publication date in Scopus, please check manually:\\n\\nTitle: {i.title}\\nAuthors: {author_list}\\nType: {i.aggregationType}\\nDOI: {i.doi}\\n\\n\")\n",
    "\n",
    "end = datetime.now().replace(microsecond = 0)\n",
    "print(f'\\nTime to complete the search: {end-start}')"
   ]
  },
  {
   "cell_type": "markdown",
   "id": "05bc6311-e5e7-4d6d-be0f-ac1055ffaefd",
   "metadata": {},
   "source": [
    "- Scopus does not recognize these words: glycoscience"
   ]
  },
  {
   "cell_type": "markdown",
   "id": "7304427a-3e91-411b-911d-8c923adac0bb",
   "metadata": {},
   "source": [
    "### Version 1 - Original Query\n",
    "\n",
    "Returned 61 results:\n",
    "\n",
    "PUBDATETXT (\"January 2024\" OR \"February 2024\" OR \"March 2024\") AND (PUBYEAR = 2024) AND (pharmacy OR \"biomolecular sciences\" OR \"natural products research\" OR pharmaceutics) AND (AF-ID(60010491) OR AF-ID(60020462) OR AF-ID(60030187))"
   ]
  },
  {
   "cell_type": "markdown",
   "id": "a822763b-cbbd-4fac-be10-5682fbf96079",
   "metadata": {},
   "source": [
    "### Version 2 - Original + New Keywords:\n",
    "\n",
    "Returned 96 results:\n",
    "\n",
    "PUBDATETXT (\"January 2024\" OR \"February 2024\" OR \"March 2024\") AND (PUBYEAR = 2024) AND (pharmacy OR \"biomolecular sciences\" OR \"natural products research\" OR pharmaceutics OR \"drug discovery\" OR \"drug development\" OR synthesis OR \"drug design\" OR chemistry OR \"structure activity\" OR \"toxicity\" OR \"zebra fish\" OR pharmacology OR neuroscience OR cardiovascular OR computer-aided AND design OR \"computational chemistry\" OR aging OR \"Alzheimer\" OR \"formulation development\" OR \"product development\" OR \"lipid based systems\" OR nanotechnology OR extrusion OR polymer OR \"3D printing\" OR \"device design\" OR cannabis OR extraction OR \"design of experiments\" OR \"medication utilization\" OR \"toxicity\" OR \"marine biology\" OR pain) AND (AF-ID(60010491) OR AF-ID(60020462) OR AF-ID(60030187))"
   ]
  },
  {
   "cell_type": "markdown",
   "id": "e242aac8-7120-4117-86bd-e4001e339e48",
   "metadata": {},
   "source": [
    "### Version 3 - Restructured Query with Original Keywords\n",
    "\n",
    "Returned 61 results:\n",
    "\n",
    "PUBDATETXT(\"January 2024\" OR \"February 2024\" OR \"March 2024\") AND PUBYEAR = 2024 AND (AF-ID(\"University of Mississippi School of Pharmacy\" 60020462) OR AF-ID(\"University of Mississippi Research Institute Pharmaceutical Science\" 60030187) OR (AF-ID(\"University of Mississippi\" 60010491) AND (pharmacy OR \"biomolecular sciences\" OR \"natural products research\" OR pharmaceutics)))"
   ]
  },
  {
   "cell_type": "markdown",
   "id": "30a4a579-d7ef-470f-a9b1-d7b34dc0dd30",
   "metadata": {},
   "source": [
    "### Version 4 - Restructured Query with New Keywords\n",
    "\n",
    "Returned 111 results:\n",
    "\n",
    "PUBDATETXT (\"January 2024\" OR \"February 2024\" OR \"March 2024\") AND (PUBYEAR = 2024) AND ((AF-ID(60010491) AND (pharmacy OR \"biomolecular sciences\" OR \"natural products research\" OR pharmaceutics OR \"drug discovery\" OR \"drug development\" OR synthesis OR \"drug design\" OR chemistry OR \"structure activity\" OR \"toxicity\" OR \"zebra fish\" OR pharmacology OR neuroscience OR cardiovascular OR computer-aided AND design OR \"computational chemistry\" OR aging OR \"Alzheimer\" OR \"formulation development\" OR \"product development\" OR \"lipid based systems\" OR nanotechnology OR extrusion OR polymer OR \"3D printing\" OR \"device design\" OR cannabis OR extraction OR \"design of experiments\" OR \"medication utilization\" OR \"toxicity\" OR \"marine biology\" OR pain)) OR AF-ID(60020462) OR AF-ID(60030187))"
   ]
  },
  {
   "cell_type": "markdown",
   "id": "3fb17274-99b4-4294-b1a0-e4d456f22351",
   "metadata": {},
   "source": [
    "### Version 5 - Restructured Query with Original Keywords, using Title-Abs-Key:\n",
    "\n",
    "Returned 20 results:\n",
    "\n",
    "PUBDATETXT (\"January 2024\" OR \"February 2024\" OR \"March 2024\") AND (PUBYEAR = 2024) AND ((AF-ID(60010491) AND TITLE-ABS-KEY(pharmacy OR \"biomolecular sciences\" OR \"natural products research\" OR pharmaceutics) OR AF-ID(60020462) OR AF-ID(60030187))"
   ]
  },
  {
   "cell_type": "markdown",
   "id": "dfda13d2-0d75-4a87-8d6f-6415e010d48b",
   "metadata": {},
   "source": [
    "### Version 6 - Retructured, with all keywords, using Title-Abs-Key:\n",
    "Returned 50 results:\n",
    "\n",
    "PUBDATETXT (\"January 2024\" OR \"February 2024\" OR \"March 2024\") AND (PUBYEAR = 2024) AND ((AF-ID(60010491) AND TITLE-ABS-KEY (pharmacy OR \"biomolecular sciences\" OR \"natural products research\" OR pharmaceutics OR \"drug discovery\" OR \"drug development\" OR synthesis OR \"drug design\" OR chemistry OR \"structure activity\" OR \"toxicity\" OR \"zebra fish\" OR pharmacology OR neuroscience OR cardiovascular OR computer-aided AND design OR \"computational chemistry\" OR aging OR \"Alzheimer\" OR \"formulation development\" OR \"product development\" OR \"lipid based systems\" OR nanotechnology OR extrusion OR polymer OR \"3D printing\" OR \"device design\" OR cannabis OR extraction OR \"design of experiments\" OR \"medication utilization\" OR \"toxicity\" OR \"marine biology\" OR pain)) OR AF-ID(60020462) OR AF-ID(60030187))"
   ]
  },
  {
   "cell_type": "code",
   "execution_count": null,
   "id": "287aa974-c841-4b90-82a7-7a0aaad4a76f",
   "metadata": {},
   "outputs": [],
   "source": []
  }
 ],
 "metadata": {
  "kernelspec": {
   "display_name": "Python 3 (ipykernel)",
   "language": "python",
   "name": "python3"
  },
  "language_info": {
   "codemirror_mode": {
    "name": "ipython",
    "version": 3
   },
   "file_extension": ".py",
   "mimetype": "text/x-python",
   "name": "python",
   "nbconvert_exporter": "python",
   "pygments_lexer": "ipython3",
   "version": "3.11.5"
  }
 },
 "nbformat": 4,
 "nbformat_minor": 5
}
