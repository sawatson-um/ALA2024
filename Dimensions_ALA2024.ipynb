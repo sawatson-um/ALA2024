{
 "cells": [
  {
   "cell_type": "markdown",
   "id": "6d18f9f4-b85a-452e-8443-7b7be4b9bb07",
   "metadata": {},
   "source": [
    "# UM Dimensions.ai Publications and References"
   ]
  },
  {
   "cell_type": "markdown",
   "id": "4d98fc44-6e39-4769-bc61-8481080f6adc",
   "metadata": {},
   "source": [
    "Uses Dimensions Analytics API to collect publications from University of Mississippi, and to collect references from those publications for analysis. \n",
    "\n",
    "Additional cells at the bottom allow the user to look up a particular journal (using a Dimensions journal ID number) and to calculate citation ages for each reference. "
   ]
  },
  {
   "cell_type": "markdown",
   "id": "1a47fa12-d3d0-4e47-b3c4-aacb7f1083ef",
   "metadata": {},
   "source": [
    "A Dimensions Analytics API key is required. The scripts also use the Dimcli package, which has extensive documentation here:"
   ]
  },
  {
   "cell_type": "code",
   "execution_count": null,
   "id": "bb494ce3-5385-4ed4-a1b7-3d5bea8a14c7",
   "metadata": {},
   "outputs": [],
   "source": [
    "import json\n",
    "import os\n",
    "import sys\n",
    "import time\n",
    "import requests\n",
    "import datetime\n",
    "import dimcli\n",
    "from dimcli.utils import *\n",
    "from tqdm.notebook import tqdm\n",
    "import pandas as pd\n",
    "import plotly.express as px\n",
    "if not 'google.colab' in sys.modules:\n",
    "  # make js dependecies local / needed by html exports\n",
    "  from plotly.offline import init_notebook_mode\n",
    "  init_notebook_mode(connected=True)\n",
    "    \n",
    "print(\"==\\nCHANGELOG\\nThis notebook was last run on %s\\n==\" % datetime.date.today().strftime('%b %d, %Y'))\n",
    "print(\"==\\nLogging in..\")\n",
    "# https://digital-science.github.io/dimcli/getting-started.html#authentication\n",
    "ENDPOINT = \"https://app.dimensions.ai\"\n",
    "KEY = \"\"\n",
    "dimcli.login(key=KEY, endpoint=ENDPOINT)\n",
    "dsl = dimcli.Dsl()"
   ]
  },
  {
   "cell_type": "markdown",
   "id": "9155310c-0a05-41fb-ae3c-57e473464276",
   "metadata": {},
   "source": [
    "## Get UM-authored publications for a date range"
   ]
  },
  {
   "cell_type": "code",
   "execution_count": null,
   "id": "de935c07-0ea8-4a17-84de-1afcabfc85a6",
   "metadata": {},
   "outputs": [],
   "source": [
    "GRIDID = 'grid.251313.7' #@param {type:\"string\"}\n",
    "# University of Mississippi organizational identifier (excludes UMMC)\n",
    "\n",
    "YEAR_START = input(\"Enter the year at which to start the search: \") #@param {type: \"slider\", min: 1950, max: 2024}\n",
    "YEAR_END = input(\"Enter the year at which to end the search: \") #@param {type: \"slider\", min: 1950, max: 2024}\n",
    "YEAR_END = max(YEAR_END, YEAR_START)"
   ]
  },
  {
   "cell_type": "code",
   "execution_count": null,
   "id": "8aa55414-da58-49cc-b8c2-ffe6a10da09c",
   "metadata": {},
   "outputs": [],
   "source": [
    "### Initial lookup: all UM publications for the specified time period ###\n",
    "publications = dsl.query_iterative(f\"\"\"\n",
    "\n",
    "    search publications\n",
    "        where research_orgs.id = \"{GRIDID}\"\n",
    "        and year in [{YEAR_START}:{YEAR_END}]\n",
    "        return publications[id+authors+reference_ids+year+funders+funding_section]\n",
    "\n",
    "\"\"\")"
   ]
  },
  {
   "cell_type": "code",
   "execution_count": null,
   "id": "21985656-e060-4a84-b3d9-20b08db18c01",
   "metadata": {},
   "outputs": [],
   "source": [
    "# This caused major headaches in testing. Make sure to drop na values from the data - they will stop the next query in its tracks\n",
    "pubs_and_citations = publications.as_dataframe().explode(\"reference_ids\")\n",
    "df = pubs_and_citations.copy()\n",
    "df = df.dropna(axis=0)\n",
    "citations = df.copy()\n",
    "citations.rename(columns={\"year\": \"UM_year\",\"id\": \"UM_publication_ID\",\"authors\": \"UM_pub_authors\"}, inplace=True)"
   ]
  },
  {
   "cell_type": "code",
   "execution_count": null,
   "id": "85a8bb38-4c0b-4150-931b-7f2ac69f302b",
   "metadata": {},
   "outputs": [],
   "source": [
    "pubs_and_citations.info()"
   ]
  },
  {
   "cell_type": "markdown",
   "id": "5464bb1d-6c89-40d9-8af8-86a501d84228",
   "metadata": {},
   "source": [
    "## Get references for UM-authored publications"
   ]
  },
  {
   "cell_type": "code",
   "execution_count": null,
   "id": "c36247ef-d98e-40e0-935a-6b986ff4bd98",
   "metadata": {},
   "outputs": [],
   "source": [
    "### Start the references query using the list of publications previously generated  ###\n",
    "\n",
    "# get a list of citation IDs\n",
    "pubids = list(set(citations['reference_ids']))  # use set() to remove duplicates\n",
    "\n",
    "\n",
    "#\n",
    "# DSL query - change the return statement to extract different metadata of interest\n",
    "query_template = \"\"\"search publications\n",
    "                    where id in {}\n",
    "                    return publications[id+doi+journal+year+publisher+type+issn]\n",
    "                    limit 1000\"\"\"\n",
    "\n",
    "\n",
    "#\n",
    "# loop through all references-publications IDs in chunks and query Dimensions\n",
    "print(f\"===\\nExtracting publications data for {len(pubids)} citations...\")\n",
    "results = []\n",
    "BATCHSIZE = 400\n",
    "VERBOSE = False # set to True to see extraction logs\n",
    "\n",
    "for chunk in tqdm(list(chunks_of(pubids, BATCHSIZE))):\n",
    "    query = query_template.format(json.dumps(chunk))\n",
    "    data = dsl.query(query, verbose=VERBOSE)\n",
    "    results += data.publications\n",
    "    time.sleep(0.5)\n",
    "\n",
    "#\n",
    "# save the citing pub data into a dataframe, remove duplicates and save\n",
    "pubs_cited = pd.DataFrame().from_dict(results)\n",
    "print(\"===\\nCited Publications found: \", len(pubs_cited))\n",
    "\n",
    "\n",
    "#\n",
    "# transform the 'journal' column because it contains nested data\n",
    "temp = pubs_cited['journal'].apply(pd.Series).rename(columns={\"id\": \"journal.id\",\n",
    "                                                              \"title\": \"journal.title\"}).drop([0], axis=1)\n",
    "pubs_cited = pd.concat([pubs_cited.drop(['journal'], axis=1), temp], axis=1).sort_values('type')\n",
    "pubs_cited.head(10)\n",
    "\n",
    "pubs_cited = pubs_cited.merge(citations, left_on='id', right_on='reference_ids')"
   ]
  },
  {
   "cell_type": "code",
   "execution_count": null,
   "id": "b366fb7b-ac40-41b6-a5cf-1fca4cf62901",
   "metadata": {},
   "outputs": [],
   "source": [
    "pubs_cited.head(5)"
   ]
  },
  {
   "cell_type": "markdown",
   "id": "5a23463e-4bed-48ab-b897-fa2fc1e3dc14",
   "metadata": {},
   "source": [
    "## Add citation ages to the dataframe"
   ]
  },
  {
   "cell_type": "code",
   "execution_count": null,
   "id": "3098b290-492b-4538-8948-406ed11abc5d",
   "metadata": {},
   "outputs": [],
   "source": [
    "# Handle NaN values in either of the year columns\n",
    "pubs_cited.dropna(subset=['year', 'UM_year'], inplace = True)\n",
    "pubs_cited.reset_index(inplace = True)  # reset the index - missing index values will cause issues later\n",
    "pubs_cited.drop(['index'], axis = 1, inplace = True)  # drop the original index column\n",
    "\n",
    "# Check the new dataframe\n",
    "pubs_cited.info()\n",
    "pubs_cited"
   ]
  },
  {
   "cell_type": "code",
   "execution_count": null,
   "id": "3b1456cf-ce2b-4da8-a304-73f42aaf4204",
   "metadata": {},
   "outputs": [],
   "source": [
    "# Make a list of citation ages by subtracting the citation year from the UM year\n",
    "cycle = 0\n",
    "citation_ages = []\n",
    "\n",
    "for um_year in list(pubs_cited[\"UM_year\"]):\n",
    "    citation_age = int(um_year) - int(pubs_cited[\"year\"][cycle])\n",
    "    citation_ages.append(citation_age)\n",
    "    cycle = cycle + 1\n",
    "\n",
    "# Add the list of citation ages as a new column in the pubs_cited data\n",
    "pubs_cited['citation_age'] = citation_ages\n",
    "pubs_cited"
   ]
  },
  {
   "cell_type": "markdown",
   "id": "f632e6b7-3153-4c9f-9bec-b8eca77404b5",
   "metadata": {},
   "source": [
    "## More info about journals and publishers"
   ]
  },
  {
   "cell_type": "code",
   "execution_count": null,
   "id": "ddd6f2a4-373f-4a3a-b006-6bba15230690",
   "metadata": {},
   "outputs": [],
   "source": [
    "pubs_cited['journal.id'].describe()"
   ]
  },
  {
   "cell_type": "code",
   "execution_count": null,
   "id": "1a188a52-5243-4b44-806d-6fdded756a90",
   "metadata": {},
   "outputs": [],
   "source": [
    "journals = pubs_cited.value_counts(['journal.title', 'publisher'])\n",
    "journals = journals.to_frame().reset_index().rename(columns= {0: 'citations', 'journal.title' : 'title'})\n",
    "journals.index.name = 'index'\n",
    "\n",
    "#preview\n",
    "journals.head(10)"
   ]
  },
  {
   "cell_type": "code",
   "execution_count": null,
   "id": "fbda425d-21de-4479-9cae-bddd2cc68731",
   "metadata": {},
   "outputs": [],
   "source": [
    "journals.shape"
   ]
  },
  {
   "cell_type": "code",
   "execution_count": null,
   "id": "349c19cc-b2ba-4114-a90f-d976ec459fc7",
   "metadata": {},
   "outputs": [],
   "source": [
    "px.bar(journals[:50],\n",
    "       x=\"title\", y=\"citations\", color=\"publisher\",\n",
    "       height=900,\n",
    "       title=f\"Top 50 journals cited by {GRIDID} (Time span {YEAR_START}-{YEAR_END})\")"
   ]
  },
  {
   "cell_type": "markdown",
   "id": "3b853a99-67ba-417e-8f3c-934b2ed25bdf",
   "metadata": {},
   "source": [
    "## Journal Lookup - Has Anyone Cited This Journal?"
   ]
  },
  {
   "cell_type": "markdown",
   "id": "f9962321-3666-4ee0-a9c5-c615adf363a5",
   "metadata": {},
   "source": [
    "Search through the list of journal ids for the specified timeframe. If it matches a particular journal, pull the UM-affiliated authors"
   ]
  },
  {
   "cell_type": "code",
   "execution_count": null,
   "id": "3e7b6583-1319-4591-9282-088f51d9fe1b",
   "metadata": {},
   "outputs": [],
   "source": [
    "JOUR_ID_LOOKUP = \"jour.1050134\"\n",
    "\n",
    "cited_count = 0\n",
    "index = 0\n",
    "um_authors = []\n",
    "author_count = 0\n",
    "\n",
    "for id in list(pubs_cited[\"journal.id\"]):\n",
    "    if id == JOUR_ID_LOOKUP:  # check if the journal appears in the overall citations list\n",
    "        cited_count = cited_count + 1\n",
    "        all_authors = pubs_cited[\"authors\"][index]  # pull a list of the authors of the paper that cited the journal\n",
    "\n",
    "        for author in all_authors:\n",
    "            if author[\"affiliations\"][0][\"id\"] == GRIDID:  # check if they are a UM author\n",
    "                um_author = f'{author[\"first_name\"]} {author[\"last_name\"]}'\n",
    "                um_affil = author[\"raw_affiliation\"]\n",
    "                if um_author not in um_authors:  # check if this author is already on the list\n",
    "                    um_authors.append(um_author)  # if not, add them\n",
    "                    um_authors.append(um_affil)  # and any departmental information they provided\n",
    "                    author_count = author_count + 1\n",
    "    \n",
    "    index = index + 1\n",
    "\n",
    "if cited_count > 0:\n",
    "    print(f'Journal was cited in {cited_count} publications by {author_count} UM authors:',\"\\n\")\n",
    "    for author in um_authors:\n",
    "        print(author, '\\n')\n",
    "else:\n",
    "    print(f'This journal (journal id {JOUR_ID_LOOKUP}) was not cited by UM authors.')"
   ]
  },
  {
   "cell_type": "markdown",
   "id": "1f59c8fc-9abc-4817-87bf-32cbcbd0f652",
   "metadata": {},
   "source": [
    "## Export the data to Excel"
   ]
  },
  {
   "cell_type": "code",
   "execution_count": null,
   "id": "3e7e0c76-adc7-4a4f-822f-0ebea1f7c28e",
   "metadata": {},
   "outputs": [],
   "source": [
    "print(f'Do you want to generate an Excel file of all UM publications for {YEAR_START} to {YEAR_END}? Y/N')\n",
    "excel_UM_pubs = input()\n",
    "if excel_UM_pubs in [\"Y\", \"y\", \"yes\", \"Yes\"]:\n",
    "    print(\"Saving Excel file...\")\n",
    "    pubs_and_citations.to_excel(f\"UM_pubs_{YEAR_START}_to_{YEAR_END}.xlsx\")\n",
    "    print(\"File saved.\", \"\\n\")\n",
    "else:\n",
    "    print(\"No Excel file will be generated.\", \"\\n\")\n",
    "\n",
    "\n",
    "print(f'Do you want to generate an Excel file of all references & citation ages in UM publications for {YEAR_START} to {YEAR_END}? Y/N', \n",
    "      \"\\n\" ,\"WARNING: This may be a very large file\")\n",
    "excel_UM_refs = input()\n",
    "if excel_UM_refs in [\"Y\", \"y\", \"yes\", \"Yes\"]:\n",
    "    print(\"Saving Excel file...\")\n",
    "    pubs_cited.to_excel(f\"References_in_UM_pubs_{YEAR_START}_to_{YEAR_END}.xlsx\")\n",
    "    print(\"File saved.\", \"\\n\")\n",
    "else:\n",
    "    print(\"No Excel file will be generated.\", \"\\n\")"
   ]
  }
 ],
 "metadata": {
  "kernelspec": {
   "display_name": "Python 3 (ipykernel)",
   "language": "python",
   "name": "python3"
  },
  "language_info": {
   "codemirror_mode": {
    "name": "ipython",
    "version": 3
   },
   "file_extension": ".py",
   "mimetype": "text/x-python",
   "name": "python",
   "nbconvert_exporter": "python",
   "pygments_lexer": "ipython3",
   "version": "3.11.5"
  }
 },
 "nbformat": 4,
 "nbformat_minor": 5
}
