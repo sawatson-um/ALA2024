{
 "cells": [
  {
   "cell_type": "markdown",
   "id": "6d18f9f4-b85a-452e-8443-7b7be4b9bb07",
   "metadata": {},
   "source": [
    "# UM Dimensions.ai Publications and References"
   ]
  },
  {
   "cell_type": "markdown",
   "id": "4d98fc44-6e39-4769-bc61-8481080f6adc",
   "metadata": {},
   "source": [
    "Uses Dimensions Analytics API to collect publications from University of Mississippi, and to collect references from those publications for analysis. \n",
    "Additional cells at the bottom allow the user to look up a particular journal (using a Dimensions journal ID number) and to calculate citation ages for each reference. "
   ]
  },
  {
   "cell_type": "markdown",
   "id": "1a47fa12-d3d0-4e47-b3c4-aacb7f1083ef",
   "metadata": {},
   "source": [
    "A Dimensions Analytics API key is required. The script makes extensive use the Dimcli package, which has very thorough documentation here: https://digital-science.github.io/dimcli/getting-started.html\n",
    "\n",
    "The Dimensions API Cookbooks contain tutorials and code snippets, several of which have been used here. In particular, the [Journals Cited by a Research Organization cookbook](https://api-lab.dimensions.ai/cookbooks/2-publications/Which-Are-the-Journals-Cited-By-My-Organization.html) was of great help. "
   ]
  },
  {
   "cell_type": "code",
   "execution_count": 1,
   "id": "bb494ce3-5385-4ed4-a1b7-3d5bea8a14c7",
   "metadata": {},
   "outputs": [
    {
     "data": {
      "text/html": [
       "        <script type=\"text/javascript\">\n",
       "        window.PlotlyConfig = {MathJaxConfig: 'local'};\n",
       "        if (window.MathJax && window.MathJax.Hub && window.MathJax.Hub.Config) {window.MathJax.Hub.Config({SVG: {font: \"STIX-Web\"}});}\n",
       "        if (typeof require !== 'undefined') {\n",
       "        require.undef(\"plotly\");\n",
       "        requirejs.config({\n",
       "            paths: {\n",
       "                'plotly': ['https://cdn.plot.ly/plotly-2.12.1.min']\n",
       "            }\n",
       "        });\n",
       "        require(['plotly'], function(Plotly) {\n",
       "            window._Plotly = Plotly;\n",
       "        });\n",
       "        }\n",
       "        </script>\n",
       "        "
      ]
     },
     "metadata": {},
     "output_type": "display_data"
    },
    {
     "name": "stderr",
     "output_type": "stream",
     "text": [
      "\u001b[2mSearching config file credentials for 'https://app.dimensions.ai' endpoint..\u001b[0m\n"
     ]
    },
    {
     "name": "stdout",
     "output_type": "stream",
     "text": [
      "==\n",
      "CHANGELOG\n",
      "This notebook was last run on Jun 13, 2024\n",
      "==\n",
      "==\n",
      "Logging in..\n",
      "\u001b[2mDimcli - Dimensions API Client (v1.2)\u001b[0m\n",
      "\u001b[2mConnected to: <https://app.dimensions.ai/api/dsl> - DSL v2.10\u001b[0m\n",
      "\u001b[2mMethod: dsl.ini file\u001b[0m\n"
     ]
    }
   ],
   "source": [
    "import json\n",
    "import os\n",
    "import sys\n",
    "import time\n",
    "import requests\n",
    "import datetime\n",
    "import dimcli\n",
    "from dimcli.utils import *\n",
    "from tqdm.notebook import tqdm\n",
    "import pandas as pd\n",
    "import plotly.express as px\n",
    "if not 'google.colab' in sys.modules:\n",
    "  # make js dependecies local / needed by html exports\n",
    "  from plotly.offline import init_notebook_mode\n",
    "  init_notebook_mode(connected=True)\n",
    "    \n",
    "print(\"==\\nCHANGELOG\\nThis notebook was last run on %s\\n==\" % datetime.date.today().strftime('%b %d, %Y'))\n",
    "print(\"==\\nLogging in..\")\n",
    "# https://digital-science.github.io/dimcli/getting-started.html#authentication\n",
    "ENDPOINT = \"https://app.dimensions.ai\"\n",
    "KEY = \"\"\n",
    "dimcli.login(key=KEY, endpoint=ENDPOINT)\n",
    "dsl = dimcli.Dsl()"
   ]
  },
  {
   "cell_type": "markdown",
   "id": "9155310c-0a05-41fb-ae3c-57e473464276",
   "metadata": {},
   "source": [
    "## Get UM-authored publications for a date range"
   ]
  },
  {
   "cell_type": "code",
   "execution_count": 2,
   "id": "de935c07-0ea8-4a17-84de-1afcabfc85a6",
   "metadata": {},
   "outputs": [
    {
     "name": "stdin",
     "output_type": "stream",
     "text": [
      "Enter the year at which to start the search:  1985\n",
      "Enter the year at which to end the search:  1985\n"
     ]
    }
   ],
   "source": [
    "GRIDID = 'grid.251313.7' #@param {type:\"string\"}\n",
    "# University of Mississippi organizational identifier (excludes UMMC)\n",
    "\n",
    "YEAR_START = input(\"Enter the year at which to start the search: \") #@param {type: \"slider\", min: 1950, max: 2024}\n",
    "YEAR_END = input(\"Enter the year at which to end the search: \") #@param {type: \"slider\", min: 1950, max: 2024}\n",
    "YEAR_END = max(YEAR_END, YEAR_START)"
   ]
  },
  {
   "cell_type": "code",
   "execution_count": 3,
   "id": "8aa55414-da58-49cc-b8c2-ffe6a10da09c",
   "metadata": {},
   "outputs": [
    {
     "name": "stderr",
     "output_type": "stream",
     "text": [
      "Starting iteration with limit=1000 skip=0 ...\u001b[0m\n",
      "0-145 / 145 (5.38s)\u001b[0m\n",
      "===\n",
      "Records extracted: 145\u001b[0m\n",
      "Warnings:  1\u001b[0m\n"
     ]
    }
   ],
   "source": [
    "### Initial lookup: all UM publications for the specified time period ###\n",
    "publications = dsl.query_iterative(f\"\"\"\n",
    "\n",
    "    search publications\n",
    "        where research_orgs.id = \"{GRIDID}\"\n",
    "        and year in [{YEAR_START}:{YEAR_END}]\n",
    "        return publications[id+authors+reference_ids+year+funders+funding_section]\n",
    "\n",
    "\"\"\")"
   ]
  },
  {
   "cell_type": "code",
   "execution_count": 4,
   "id": "21985656-e060-4a84-b3d9-20b08db18c01",
   "metadata": {},
   "outputs": [],
   "source": [
    "# This caused major headaches in testing. Make sure to drop na values from the data - they will stop the next query in its tracks\n",
    "pubs_and_citations = publications.as_dataframe().explode(\"reference_ids\")\n",
    "df = pubs_and_citations.copy()\n",
    "df = df.dropna(axis=0)\n",
    "citations = df.copy()\n",
    "citations.rename(columns={\"year\": \"UM_year\",\"id\": \"UM_publication_ID\",\"authors\": \"UM_pub_authors\"}, inplace=True)"
   ]
  },
  {
   "cell_type": "code",
   "execution_count": 5,
   "id": "85a8bb38-4c0b-4150-931b-7f2ac69f302b",
   "metadata": {},
   "outputs": [
    {
     "name": "stdout",
     "output_type": "stream",
     "text": [
      "<class 'pandas.core.frame.DataFrame'>\n",
      "Int64Index: 1660 entries, 0 to 144\n",
      "Data columns (total 5 columns):\n",
      " #   Column         Non-Null Count  Dtype \n",
      "---  ------         --------------  ----- \n",
      " 0   id             1660 non-null   object\n",
      " 1   authors        1660 non-null   object\n",
      " 2   year           1660 non-null   int64 \n",
      " 3   reference_ids  1611 non-null   object\n",
      " 4   funders        264 non-null    object\n",
      "dtypes: int64(1), object(4)\n",
      "memory usage: 77.8+ KB\n"
     ]
    }
   ],
   "source": [
    "pubs_and_citations.info()"
   ]
  },
  {
   "cell_type": "markdown",
   "id": "5464bb1d-6c89-40d9-8af8-86a501d84228",
   "metadata": {},
   "source": [
    "## Get references for UM-authored publications"
   ]
  },
  {
   "cell_type": "code",
   "execution_count": 6,
   "id": "c36247ef-d98e-40e0-935a-6b986ff4bd98",
   "metadata": {},
   "outputs": [
    {
     "name": "stdout",
     "output_type": "stream",
     "text": [
      "===\n",
      "Extracting publications data for 250 citations...\n"
     ]
    },
    {
     "data": {
      "application/vnd.jupyter.widget-view+json": {
       "model_id": "a73fabb716a74bb4acd7645bc7539c83",
       "version_major": 2,
       "version_minor": 0
      },
      "text/plain": [
       "  0%|          | 0/1 [00:00<?, ?it/s]"
      ]
     },
     "metadata": {},
     "output_type": "display_data"
    },
    {
     "name": "stdout",
     "output_type": "stream",
     "text": [
      "===\n",
      "Cited Publications found:  250\n"
     ]
    }
   ],
   "source": [
    "### Start the references query using the list of publications previously generated  ###\n",
    "\n",
    "# get a list of citation IDs\n",
    "pubids = list(set(citations['reference_ids']))  # use set() to remove duplicates\n",
    "\n",
    "\n",
    "#\n",
    "# DSL query - change the return statement to extract different metadata of interest\n",
    "query_template = \"\"\"search publications\n",
    "                    where id in {}\n",
    "                    return publications[id+doi+journal+year+publisher+type+issn]\n",
    "                    limit 1000\"\"\"\n",
    "\n",
    "\n",
    "#\n",
    "# loop through all references-publications IDs in chunks and query Dimensions\n",
    "print(f\"===\\nExtracting publications data for {len(pubids)} citations...\")\n",
    "results = []\n",
    "BATCHSIZE = 400\n",
    "VERBOSE = False # set to True to see extraction logs\n",
    "\n",
    "for chunk in tqdm(list(chunks_of(pubids, BATCHSIZE))):\n",
    "    query = query_template.format(json.dumps(chunk))\n",
    "    data = dsl.query(query, verbose=VERBOSE)\n",
    "    results += data.publications\n",
    "    time.sleep(0.5)\n",
    "\n",
    "#\n",
    "# save the citing pub data into a dataframe, remove duplicates and save\n",
    "pubs_cited = pd.DataFrame().from_dict(results)\n",
    "print(\"===\\nCited Publications found: \", len(pubs_cited))\n",
    "\n",
    "\n",
    "#\n",
    "# transform the 'journal' column because it contains nested data\n",
    "temp = pubs_cited['journal'].apply(pd.Series).rename(columns={\"id\": \"journal.id\",\n",
    "                                                              \"title\": \"journal.title\"}).drop([0], axis=1)\n",
    "pubs_cited = pd.concat([pubs_cited.drop(['journal'], axis=1), temp], axis=1).sort_values('type')\n",
    "pubs_cited.head(10)\n",
    "\n",
    "pubs_cited = pubs_cited.merge(citations, left_on='id', right_on='reference_ids')"
   ]
  },
  {
   "cell_type": "code",
   "execution_count": 7,
   "id": "b366fb7b-ac40-41b6-a5cf-1fca4cf62901",
   "metadata": {},
   "outputs": [
    {
     "data": {
      "text/html": [
       "<div>\n",
       "<style scoped>\n",
       "    .dataframe tbody tr th:only-of-type {\n",
       "        vertical-align: middle;\n",
       "    }\n",
       "\n",
       "    .dataframe tbody tr th {\n",
       "        vertical-align: top;\n",
       "    }\n",
       "\n",
       "    .dataframe thead th {\n",
       "        text-align: right;\n",
       "    }\n",
       "</style>\n",
       "<table border=\"1\" class=\"dataframe\">\n",
       "  <thead>\n",
       "    <tr style=\"text-align: right;\">\n",
       "      <th></th>\n",
       "      <th>doi</th>\n",
       "      <th>id</th>\n",
       "      <th>issn</th>\n",
       "      <th>publisher</th>\n",
       "      <th>type</th>\n",
       "      <th>year</th>\n",
       "      <th>journal.id</th>\n",
       "      <th>journal.title</th>\n",
       "      <th>UM_publication_ID</th>\n",
       "      <th>UM_pub_authors</th>\n",
       "      <th>UM_year</th>\n",
       "      <th>reference_ids</th>\n",
       "      <th>funders</th>\n",
       "    </tr>\n",
       "  </thead>\n",
       "  <tbody>\n",
       "    <tr>\n",
       "      <th>0</th>\n",
       "      <td>10.1182/blood.v64.4.763.763</td>\n",
       "      <td>pub.1121768074</td>\n",
       "      <td>[0006-4971, 1528-0020]</td>\n",
       "      <td>American Society of Hematology</td>\n",
       "      <td>article</td>\n",
       "      <td>1984</td>\n",
       "      <td>jour.1085025</td>\n",
       "      <td>Blood</td>\n",
       "      <td>pub.1052956799</td>\n",
       "      <td>[{'affiliations': [{'city': 'Oxford', 'city_id...</td>\n",
       "      <td>1985</td>\n",
       "      <td>pub.1121768074</td>\n",
       "      <td>[{'acronym': 'NIDDK', 'city_name': 'Bethesda',...</td>\n",
       "    </tr>\n",
       "    <tr>\n",
       "      <th>1</th>\n",
       "      <td>10.1007/bf01611021</td>\n",
       "      <td>pub.1037844075</td>\n",
       "      <td>[0007-4861, 1432-0800]</td>\n",
       "      <td>Springer Nature</td>\n",
       "      <td>article</td>\n",
       "      <td>1981</td>\n",
       "      <td>jour.1005778</td>\n",
       "      <td>Bulletin of Environmental Contamination and To...</td>\n",
       "      <td>pub.1040335484</td>\n",
       "      <td>[{'affiliations': [{'city': 'Oxford', 'city_id...</td>\n",
       "      <td>1985</td>\n",
       "      <td>pub.1037844075</td>\n",
       "      <td>[{'acronym': 'NIGMS', 'city_name': 'Bethesda',...</td>\n",
       "    </tr>\n",
       "    <tr>\n",
       "      <th>2</th>\n",
       "      <td>10.1007/bf01611021</td>\n",
       "      <td>pub.1037844075</td>\n",
       "      <td>[0007-4861, 1432-0800]</td>\n",
       "      <td>Springer Nature</td>\n",
       "      <td>article</td>\n",
       "      <td>1981</td>\n",
       "      <td>jour.1005778</td>\n",
       "      <td>Bulletin of Environmental Contamination and To...</td>\n",
       "      <td>pub.1013740626</td>\n",
       "      <td>[{'affiliations': [{'city': 'Oxford', 'city_id...</td>\n",
       "      <td>1985</td>\n",
       "      <td>pub.1037844075</td>\n",
       "      <td>[{'acronym': 'NIGMS', 'city_name': 'Bethesda',...</td>\n",
       "    </tr>\n",
       "    <tr>\n",
       "      <th>3</th>\n",
       "      <td>10.1016/0014-4827(84)90784-5</td>\n",
       "      <td>pub.1037199487</td>\n",
       "      <td>[0014-4827, 1090-2422]</td>\n",
       "      <td>Elsevier</td>\n",
       "      <td>article</td>\n",
       "      <td>1984</td>\n",
       "      <td>jour.1017523</td>\n",
       "      <td>Experimental Cell Research</td>\n",
       "      <td>pub.1052956799</td>\n",
       "      <td>[{'affiliations': [{'city': 'Oxford', 'city_id...</td>\n",
       "      <td>1985</td>\n",
       "      <td>pub.1037199487</td>\n",
       "      <td>[{'acronym': 'NIDDK', 'city_name': 'Bethesda',...</td>\n",
       "    </tr>\n",
       "    <tr>\n",
       "      <th>4</th>\n",
       "      <td>10.1016/0014-4827(84)90784-5</td>\n",
       "      <td>pub.1037199487</td>\n",
       "      <td>[0014-4827, 1090-2422]</td>\n",
       "      <td>Elsevier</td>\n",
       "      <td>article</td>\n",
       "      <td>1984</td>\n",
       "      <td>jour.1017523</td>\n",
       "      <td>Experimental Cell Research</td>\n",
       "      <td>pub.1005242960</td>\n",
       "      <td>[{'affiliations': [{'city': 'Oxford', 'city_id...</td>\n",
       "      <td>1985</td>\n",
       "      <td>pub.1037199487</td>\n",
       "      <td>[{'acronym': 'NIDDK', 'city_name': 'Bethesda',...</td>\n",
       "    </tr>\n",
       "  </tbody>\n",
       "</table>\n",
       "</div>"
      ],
      "text/plain": [
       "                            doi              id                    issn  \\\n",
       "0   10.1182/blood.v64.4.763.763  pub.1121768074  [0006-4971, 1528-0020]   \n",
       "1            10.1007/bf01611021  pub.1037844075  [0007-4861, 1432-0800]   \n",
       "2            10.1007/bf01611021  pub.1037844075  [0007-4861, 1432-0800]   \n",
       "3  10.1016/0014-4827(84)90784-5  pub.1037199487  [0014-4827, 1090-2422]   \n",
       "4  10.1016/0014-4827(84)90784-5  pub.1037199487  [0014-4827, 1090-2422]   \n",
       "\n",
       "                        publisher     type  year    journal.id  \\\n",
       "0  American Society of Hematology  article  1984  jour.1085025   \n",
       "1                 Springer Nature  article  1981  jour.1005778   \n",
       "2                 Springer Nature  article  1981  jour.1005778   \n",
       "3                        Elsevier  article  1984  jour.1017523   \n",
       "4                        Elsevier  article  1984  jour.1017523   \n",
       "\n",
       "                                       journal.title UM_publication_ID  \\\n",
       "0                                              Blood    pub.1052956799   \n",
       "1  Bulletin of Environmental Contamination and To...    pub.1040335484   \n",
       "2  Bulletin of Environmental Contamination and To...    pub.1013740626   \n",
       "3                         Experimental Cell Research    pub.1052956799   \n",
       "4                         Experimental Cell Research    pub.1005242960   \n",
       "\n",
       "                                      UM_pub_authors  UM_year   reference_ids  \\\n",
       "0  [{'affiliations': [{'city': 'Oxford', 'city_id...     1985  pub.1121768074   \n",
       "1  [{'affiliations': [{'city': 'Oxford', 'city_id...     1985  pub.1037844075   \n",
       "2  [{'affiliations': [{'city': 'Oxford', 'city_id...     1985  pub.1037844075   \n",
       "3  [{'affiliations': [{'city': 'Oxford', 'city_id...     1985  pub.1037199487   \n",
       "4  [{'affiliations': [{'city': 'Oxford', 'city_id...     1985  pub.1037199487   \n",
       "\n",
       "                                             funders  \n",
       "0  [{'acronym': 'NIDDK', 'city_name': 'Bethesda',...  \n",
       "1  [{'acronym': 'NIGMS', 'city_name': 'Bethesda',...  \n",
       "2  [{'acronym': 'NIGMS', 'city_name': 'Bethesda',...  \n",
       "3  [{'acronym': 'NIDDK', 'city_name': 'Bethesda',...  \n",
       "4  [{'acronym': 'NIDDK', 'city_name': 'Bethesda',...  "
      ]
     },
     "execution_count": 7,
     "metadata": {},
     "output_type": "execute_result"
    }
   ],
   "source": [
    "pubs_cited.head(5)"
   ]
  },
  {
   "cell_type": "markdown",
   "id": "5a23463e-4bed-48ab-b897-fa2fc1e3dc14",
   "metadata": {},
   "source": [
    "## Add citation ages to the dataframe"
   ]
  },
  {
   "cell_type": "code",
   "execution_count": 8,
   "id": "3098b290-492b-4538-8948-406ed11abc5d",
   "metadata": {},
   "outputs": [
    {
     "name": "stdout",
     "output_type": "stream",
     "text": [
      "<class 'pandas.core.frame.DataFrame'>\n",
      "RangeIndex: 263 entries, 0 to 262\n",
      "Data columns (total 13 columns):\n",
      " #   Column             Non-Null Count  Dtype \n",
      "---  ------             --------------  ----- \n",
      " 0   doi                235 non-null    object\n",
      " 1   id                 263 non-null    object\n",
      " 2   issn               262 non-null    object\n",
      " 3   publisher          234 non-null    object\n",
      " 4   type               263 non-null    object\n",
      " 5   year               263 non-null    int64 \n",
      " 6   journal.id         256 non-null    object\n",
      " 7   journal.title      256 non-null    object\n",
      " 8   UM_publication_ID  263 non-null    object\n",
      " 9   UM_pub_authors     263 non-null    object\n",
      " 10  UM_year            263 non-null    int64 \n",
      " 11  reference_ids      263 non-null    object\n",
      " 12  funders            263 non-null    object\n",
      "dtypes: int64(2), object(11)\n",
      "memory usage: 26.8+ KB\n"
     ]
    },
    {
     "data": {
      "text/html": [
       "<div>\n",
       "<style scoped>\n",
       "    .dataframe tbody tr th:only-of-type {\n",
       "        vertical-align: middle;\n",
       "    }\n",
       "\n",
       "    .dataframe tbody tr th {\n",
       "        vertical-align: top;\n",
       "    }\n",
       "\n",
       "    .dataframe thead th {\n",
       "        text-align: right;\n",
       "    }\n",
       "</style>\n",
       "<table border=\"1\" class=\"dataframe\">\n",
       "  <thead>\n",
       "    <tr style=\"text-align: right;\">\n",
       "      <th></th>\n",
       "      <th>doi</th>\n",
       "      <th>id</th>\n",
       "      <th>issn</th>\n",
       "      <th>publisher</th>\n",
       "      <th>type</th>\n",
       "      <th>year</th>\n",
       "      <th>journal.id</th>\n",
       "      <th>journal.title</th>\n",
       "      <th>UM_publication_ID</th>\n",
       "      <th>UM_pub_authors</th>\n",
       "      <th>UM_year</th>\n",
       "      <th>reference_ids</th>\n",
       "      <th>funders</th>\n",
       "    </tr>\n",
       "  </thead>\n",
       "  <tbody>\n",
       "    <tr>\n",
       "      <th>0</th>\n",
       "      <td>10.1182/blood.v64.4.763.763</td>\n",
       "      <td>pub.1121768074</td>\n",
       "      <td>[0006-4971, 1528-0020]</td>\n",
       "      <td>American Society of Hematology</td>\n",
       "      <td>article</td>\n",
       "      <td>1984</td>\n",
       "      <td>jour.1085025</td>\n",
       "      <td>Blood</td>\n",
       "      <td>pub.1052956799</td>\n",
       "      <td>[{'affiliations': [{'city': 'Oxford', 'city_id...</td>\n",
       "      <td>1985</td>\n",
       "      <td>pub.1121768074</td>\n",
       "      <td>[{'acronym': 'NIDDK', 'city_name': 'Bethesda',...</td>\n",
       "    </tr>\n",
       "    <tr>\n",
       "      <th>1</th>\n",
       "      <td>10.1007/bf01611021</td>\n",
       "      <td>pub.1037844075</td>\n",
       "      <td>[0007-4861, 1432-0800]</td>\n",
       "      <td>Springer Nature</td>\n",
       "      <td>article</td>\n",
       "      <td>1981</td>\n",
       "      <td>jour.1005778</td>\n",
       "      <td>Bulletin of Environmental Contamination and To...</td>\n",
       "      <td>pub.1040335484</td>\n",
       "      <td>[{'affiliations': [{'city': 'Oxford', 'city_id...</td>\n",
       "      <td>1985</td>\n",
       "      <td>pub.1037844075</td>\n",
       "      <td>[{'acronym': 'NIGMS', 'city_name': 'Bethesda',...</td>\n",
       "    </tr>\n",
       "    <tr>\n",
       "      <th>2</th>\n",
       "      <td>10.1007/bf01611021</td>\n",
       "      <td>pub.1037844075</td>\n",
       "      <td>[0007-4861, 1432-0800]</td>\n",
       "      <td>Springer Nature</td>\n",
       "      <td>article</td>\n",
       "      <td>1981</td>\n",
       "      <td>jour.1005778</td>\n",
       "      <td>Bulletin of Environmental Contamination and To...</td>\n",
       "      <td>pub.1013740626</td>\n",
       "      <td>[{'affiliations': [{'city': 'Oxford', 'city_id...</td>\n",
       "      <td>1985</td>\n",
       "      <td>pub.1037844075</td>\n",
       "      <td>[{'acronym': 'NIGMS', 'city_name': 'Bethesda',...</td>\n",
       "    </tr>\n",
       "    <tr>\n",
       "      <th>3</th>\n",
       "      <td>10.1016/0014-4827(84)90784-5</td>\n",
       "      <td>pub.1037199487</td>\n",
       "      <td>[0014-4827, 1090-2422]</td>\n",
       "      <td>Elsevier</td>\n",
       "      <td>article</td>\n",
       "      <td>1984</td>\n",
       "      <td>jour.1017523</td>\n",
       "      <td>Experimental Cell Research</td>\n",
       "      <td>pub.1052956799</td>\n",
       "      <td>[{'affiliations': [{'city': 'Oxford', 'city_id...</td>\n",
       "      <td>1985</td>\n",
       "      <td>pub.1037199487</td>\n",
       "      <td>[{'acronym': 'NIDDK', 'city_name': 'Bethesda',...</td>\n",
       "    </tr>\n",
       "    <tr>\n",
       "      <th>4</th>\n",
       "      <td>10.1016/0014-4827(84)90784-5</td>\n",
       "      <td>pub.1037199487</td>\n",
       "      <td>[0014-4827, 1090-2422]</td>\n",
       "      <td>Elsevier</td>\n",
       "      <td>article</td>\n",
       "      <td>1984</td>\n",
       "      <td>jour.1017523</td>\n",
       "      <td>Experimental Cell Research</td>\n",
       "      <td>pub.1005242960</td>\n",
       "      <td>[{'affiliations': [{'city': 'Oxford', 'city_id...</td>\n",
       "      <td>1985</td>\n",
       "      <td>pub.1037199487</td>\n",
       "      <td>[{'acronym': 'NIDDK', 'city_name': 'Bethesda',...</td>\n",
       "    </tr>\n",
       "    <tr>\n",
       "      <th>...</th>\n",
       "      <td>...</td>\n",
       "      <td>...</td>\n",
       "      <td>...</td>\n",
       "      <td>...</td>\n",
       "      <td>...</td>\n",
       "      <td>...</td>\n",
       "      <td>...</td>\n",
       "      <td>...</td>\n",
       "      <td>...</td>\n",
       "      <td>...</td>\n",
       "      <td>...</td>\n",
       "      <td>...</td>\n",
       "      <td>...</td>\n",
       "    </tr>\n",
       "    <tr>\n",
       "      <th>258</th>\n",
       "      <td>10.1016/b978-0-12-107607-8.50011-8</td>\n",
       "      <td>pub.1053143456</td>\n",
       "      <td>[0071-1446]</td>\n",
       "      <td>Elsevier</td>\n",
       "      <td>chapter</td>\n",
       "      <td>1976</td>\n",
       "      <td>NaN</td>\n",
       "      <td>NaN</td>\n",
       "      <td>pub.1013740626</td>\n",
       "      <td>[{'affiliations': [{'city': 'Oxford', 'city_id...</td>\n",
       "      <td>1985</td>\n",
       "      <td>pub.1053143456</td>\n",
       "      <td>[{'acronym': 'NIGMS', 'city_name': 'Bethesda',...</td>\n",
       "    </tr>\n",
       "    <tr>\n",
       "      <th>259</th>\n",
       "      <td>10.1016/s0065-3233(08)60458-1</td>\n",
       "      <td>pub.1022309611</td>\n",
       "      <td>[1876-1623, 1876-1631, 0065-3233]</td>\n",
       "      <td>Elsevier</td>\n",
       "      <td>chapter</td>\n",
       "      <td>1979</td>\n",
       "      <td>NaN</td>\n",
       "      <td>NaN</td>\n",
       "      <td>pub.1014167586</td>\n",
       "      <td>[{'affiliations': [{'city': 'Birmingham', 'cit...</td>\n",
       "      <td>1985</td>\n",
       "      <td>pub.1022309611</td>\n",
       "      <td>[{'acronym': 'NCI', 'city_name': 'Bethesda', '...</td>\n",
       "    </tr>\n",
       "    <tr>\n",
       "      <th>260</th>\n",
       "      <td>10.1002/9780470122891.ch6</td>\n",
       "      <td>pub.1037564072</td>\n",
       "      <td>[0065-258X, 1934-4694]</td>\n",
       "      <td>Wiley</td>\n",
       "      <td>chapter</td>\n",
       "      <td>1976</td>\n",
       "      <td>NaN</td>\n",
       "      <td>NaN</td>\n",
       "      <td>pub.1005242960</td>\n",
       "      <td>[{'affiliations': [{'city': 'Oxford', 'city_id...</td>\n",
       "      <td>1985</td>\n",
       "      <td>pub.1037564072</td>\n",
       "      <td>[{'acronym': 'NIDDK', 'city_name': 'Bethesda',...</td>\n",
       "    </tr>\n",
       "    <tr>\n",
       "      <th>261</th>\n",
       "      <td>10.1002/9780470720745.ch1</td>\n",
       "      <td>pub.1001638912</td>\n",
       "      <td>[1528-2511, 1935-4657]</td>\n",
       "      <td>Wiley</td>\n",
       "      <td>chapter</td>\n",
       "      <td>1982</td>\n",
       "      <td>NaN</td>\n",
       "      <td>NaN</td>\n",
       "      <td>pub.1002830050</td>\n",
       "      <td>[{'affiliations': [{'city': 'Kansas City', 'ci...</td>\n",
       "      <td>1985</td>\n",
       "      <td>pub.1001638912</td>\n",
       "      <td>[{'acronym': 'NIGMS', 'city_name': 'Bethesda',...</td>\n",
       "    </tr>\n",
       "    <tr>\n",
       "      <th>262</th>\n",
       "      <td>10.1016/s0091-679x(08)61797-5</td>\n",
       "      <td>pub.1018711343</td>\n",
       "      <td>[0091-679X, 0091-6579]</td>\n",
       "      <td>Elsevier</td>\n",
       "      <td>chapter</td>\n",
       "      <td>1976</td>\n",
       "      <td>NaN</td>\n",
       "      <td>NaN</td>\n",
       "      <td>pub.1052956799</td>\n",
       "      <td>[{'affiliations': [{'city': 'Oxford', 'city_id...</td>\n",
       "      <td>1985</td>\n",
       "      <td>pub.1018711343</td>\n",
       "      <td>[{'acronym': 'NIDDK', 'city_name': 'Bethesda',...</td>\n",
       "    </tr>\n",
       "  </tbody>\n",
       "</table>\n",
       "<p>263 rows × 13 columns</p>\n",
       "</div>"
      ],
      "text/plain": [
       "                                    doi              id  \\\n",
       "0           10.1182/blood.v64.4.763.763  pub.1121768074   \n",
       "1                    10.1007/bf01611021  pub.1037844075   \n",
       "2                    10.1007/bf01611021  pub.1037844075   \n",
       "3          10.1016/0014-4827(84)90784-5  pub.1037199487   \n",
       "4          10.1016/0014-4827(84)90784-5  pub.1037199487   \n",
       "..                                  ...             ...   \n",
       "258  10.1016/b978-0-12-107607-8.50011-8  pub.1053143456   \n",
       "259       10.1016/s0065-3233(08)60458-1  pub.1022309611   \n",
       "260           10.1002/9780470122891.ch6  pub.1037564072   \n",
       "261           10.1002/9780470720745.ch1  pub.1001638912   \n",
       "262       10.1016/s0091-679x(08)61797-5  pub.1018711343   \n",
       "\n",
       "                                  issn                       publisher  \\\n",
       "0               [0006-4971, 1528-0020]  American Society of Hematology   \n",
       "1               [0007-4861, 1432-0800]                 Springer Nature   \n",
       "2               [0007-4861, 1432-0800]                 Springer Nature   \n",
       "3               [0014-4827, 1090-2422]                        Elsevier   \n",
       "4               [0014-4827, 1090-2422]                        Elsevier   \n",
       "..                                 ...                             ...   \n",
       "258                        [0071-1446]                        Elsevier   \n",
       "259  [1876-1623, 1876-1631, 0065-3233]                        Elsevier   \n",
       "260             [0065-258X, 1934-4694]                           Wiley   \n",
       "261             [1528-2511, 1935-4657]                           Wiley   \n",
       "262             [0091-679X, 0091-6579]                        Elsevier   \n",
       "\n",
       "        type  year    journal.id  \\\n",
       "0    article  1984  jour.1085025   \n",
       "1    article  1981  jour.1005778   \n",
       "2    article  1981  jour.1005778   \n",
       "3    article  1984  jour.1017523   \n",
       "4    article  1984  jour.1017523   \n",
       "..       ...   ...           ...   \n",
       "258  chapter  1976           NaN   \n",
       "259  chapter  1979           NaN   \n",
       "260  chapter  1976           NaN   \n",
       "261  chapter  1982           NaN   \n",
       "262  chapter  1976           NaN   \n",
       "\n",
       "                                         journal.title UM_publication_ID  \\\n",
       "0                                                Blood    pub.1052956799   \n",
       "1    Bulletin of Environmental Contamination and To...    pub.1040335484   \n",
       "2    Bulletin of Environmental Contamination and To...    pub.1013740626   \n",
       "3                           Experimental Cell Research    pub.1052956799   \n",
       "4                           Experimental Cell Research    pub.1005242960   \n",
       "..                                                 ...               ...   \n",
       "258                                                NaN    pub.1013740626   \n",
       "259                                                NaN    pub.1014167586   \n",
       "260                                                NaN    pub.1005242960   \n",
       "261                                                NaN    pub.1002830050   \n",
       "262                                                NaN    pub.1052956799   \n",
       "\n",
       "                                        UM_pub_authors  UM_year  \\\n",
       "0    [{'affiliations': [{'city': 'Oxford', 'city_id...     1985   \n",
       "1    [{'affiliations': [{'city': 'Oxford', 'city_id...     1985   \n",
       "2    [{'affiliations': [{'city': 'Oxford', 'city_id...     1985   \n",
       "3    [{'affiliations': [{'city': 'Oxford', 'city_id...     1985   \n",
       "4    [{'affiliations': [{'city': 'Oxford', 'city_id...     1985   \n",
       "..                                                 ...      ...   \n",
       "258  [{'affiliations': [{'city': 'Oxford', 'city_id...     1985   \n",
       "259  [{'affiliations': [{'city': 'Birmingham', 'cit...     1985   \n",
       "260  [{'affiliations': [{'city': 'Oxford', 'city_id...     1985   \n",
       "261  [{'affiliations': [{'city': 'Kansas City', 'ci...     1985   \n",
       "262  [{'affiliations': [{'city': 'Oxford', 'city_id...     1985   \n",
       "\n",
       "      reference_ids                                            funders  \n",
       "0    pub.1121768074  [{'acronym': 'NIDDK', 'city_name': 'Bethesda',...  \n",
       "1    pub.1037844075  [{'acronym': 'NIGMS', 'city_name': 'Bethesda',...  \n",
       "2    pub.1037844075  [{'acronym': 'NIGMS', 'city_name': 'Bethesda',...  \n",
       "3    pub.1037199487  [{'acronym': 'NIDDK', 'city_name': 'Bethesda',...  \n",
       "4    pub.1037199487  [{'acronym': 'NIDDK', 'city_name': 'Bethesda',...  \n",
       "..              ...                                                ...  \n",
       "258  pub.1053143456  [{'acronym': 'NIGMS', 'city_name': 'Bethesda',...  \n",
       "259  pub.1022309611  [{'acronym': 'NCI', 'city_name': 'Bethesda', '...  \n",
       "260  pub.1037564072  [{'acronym': 'NIDDK', 'city_name': 'Bethesda',...  \n",
       "261  pub.1001638912  [{'acronym': 'NIGMS', 'city_name': 'Bethesda',...  \n",
       "262  pub.1018711343  [{'acronym': 'NIDDK', 'city_name': 'Bethesda',...  \n",
       "\n",
       "[263 rows x 13 columns]"
      ]
     },
     "execution_count": 8,
     "metadata": {},
     "output_type": "execute_result"
    }
   ],
   "source": [
    "# Handle NaN values in either of the year columns\n",
    "pubs_cited.dropna(subset=['year', 'UM_year'], inplace = True)\n",
    "pubs_cited.reset_index(inplace = True)  # reset the index - missing index values will cause issues later\n",
    "pubs_cited.drop(['index'], axis = 1, inplace = True)  # drop the original index column\n",
    "\n",
    "# Check the new dataframe\n",
    "pubs_cited.info()\n",
    "pubs_cited"
   ]
  },
  {
   "cell_type": "code",
   "execution_count": 9,
   "id": "3b1456cf-ce2b-4da8-a304-73f42aaf4204",
   "metadata": {},
   "outputs": [
    {
     "data": {
      "text/html": [
       "<div>\n",
       "<style scoped>\n",
       "    .dataframe tbody tr th:only-of-type {\n",
       "        vertical-align: middle;\n",
       "    }\n",
       "\n",
       "    .dataframe tbody tr th {\n",
       "        vertical-align: top;\n",
       "    }\n",
       "\n",
       "    .dataframe thead th {\n",
       "        text-align: right;\n",
       "    }\n",
       "</style>\n",
       "<table border=\"1\" class=\"dataframe\">\n",
       "  <thead>\n",
       "    <tr style=\"text-align: right;\">\n",
       "      <th></th>\n",
       "      <th>doi</th>\n",
       "      <th>id</th>\n",
       "      <th>issn</th>\n",
       "      <th>publisher</th>\n",
       "      <th>type</th>\n",
       "      <th>year</th>\n",
       "      <th>journal.id</th>\n",
       "      <th>journal.title</th>\n",
       "      <th>UM_publication_ID</th>\n",
       "      <th>UM_pub_authors</th>\n",
       "      <th>UM_year</th>\n",
       "      <th>reference_ids</th>\n",
       "      <th>funders</th>\n",
       "      <th>citation_age</th>\n",
       "    </tr>\n",
       "  </thead>\n",
       "  <tbody>\n",
       "    <tr>\n",
       "      <th>0</th>\n",
       "      <td>10.1182/blood.v64.4.763.763</td>\n",
       "      <td>pub.1121768074</td>\n",
       "      <td>[0006-4971, 1528-0020]</td>\n",
       "      <td>American Society of Hematology</td>\n",
       "      <td>article</td>\n",
       "      <td>1984</td>\n",
       "      <td>jour.1085025</td>\n",
       "      <td>Blood</td>\n",
       "      <td>pub.1052956799</td>\n",
       "      <td>[{'affiliations': [{'city': 'Oxford', 'city_id...</td>\n",
       "      <td>1985</td>\n",
       "      <td>pub.1121768074</td>\n",
       "      <td>[{'acronym': 'NIDDK', 'city_name': 'Bethesda',...</td>\n",
       "      <td>1</td>\n",
       "    </tr>\n",
       "    <tr>\n",
       "      <th>1</th>\n",
       "      <td>10.1007/bf01611021</td>\n",
       "      <td>pub.1037844075</td>\n",
       "      <td>[0007-4861, 1432-0800]</td>\n",
       "      <td>Springer Nature</td>\n",
       "      <td>article</td>\n",
       "      <td>1981</td>\n",
       "      <td>jour.1005778</td>\n",
       "      <td>Bulletin of Environmental Contamination and To...</td>\n",
       "      <td>pub.1040335484</td>\n",
       "      <td>[{'affiliations': [{'city': 'Oxford', 'city_id...</td>\n",
       "      <td>1985</td>\n",
       "      <td>pub.1037844075</td>\n",
       "      <td>[{'acronym': 'NIGMS', 'city_name': 'Bethesda',...</td>\n",
       "      <td>4</td>\n",
       "    </tr>\n",
       "    <tr>\n",
       "      <th>2</th>\n",
       "      <td>10.1007/bf01611021</td>\n",
       "      <td>pub.1037844075</td>\n",
       "      <td>[0007-4861, 1432-0800]</td>\n",
       "      <td>Springer Nature</td>\n",
       "      <td>article</td>\n",
       "      <td>1981</td>\n",
       "      <td>jour.1005778</td>\n",
       "      <td>Bulletin of Environmental Contamination and To...</td>\n",
       "      <td>pub.1013740626</td>\n",
       "      <td>[{'affiliations': [{'city': 'Oxford', 'city_id...</td>\n",
       "      <td>1985</td>\n",
       "      <td>pub.1037844075</td>\n",
       "      <td>[{'acronym': 'NIGMS', 'city_name': 'Bethesda',...</td>\n",
       "      <td>4</td>\n",
       "    </tr>\n",
       "    <tr>\n",
       "      <th>3</th>\n",
       "      <td>10.1016/0014-4827(84)90784-5</td>\n",
       "      <td>pub.1037199487</td>\n",
       "      <td>[0014-4827, 1090-2422]</td>\n",
       "      <td>Elsevier</td>\n",
       "      <td>article</td>\n",
       "      <td>1984</td>\n",
       "      <td>jour.1017523</td>\n",
       "      <td>Experimental Cell Research</td>\n",
       "      <td>pub.1052956799</td>\n",
       "      <td>[{'affiliations': [{'city': 'Oxford', 'city_id...</td>\n",
       "      <td>1985</td>\n",
       "      <td>pub.1037199487</td>\n",
       "      <td>[{'acronym': 'NIDDK', 'city_name': 'Bethesda',...</td>\n",
       "      <td>1</td>\n",
       "    </tr>\n",
       "    <tr>\n",
       "      <th>4</th>\n",
       "      <td>10.1016/0014-4827(84)90784-5</td>\n",
       "      <td>pub.1037199487</td>\n",
       "      <td>[0014-4827, 1090-2422]</td>\n",
       "      <td>Elsevier</td>\n",
       "      <td>article</td>\n",
       "      <td>1984</td>\n",
       "      <td>jour.1017523</td>\n",
       "      <td>Experimental Cell Research</td>\n",
       "      <td>pub.1005242960</td>\n",
       "      <td>[{'affiliations': [{'city': 'Oxford', 'city_id...</td>\n",
       "      <td>1985</td>\n",
       "      <td>pub.1037199487</td>\n",
       "      <td>[{'acronym': 'NIDDK', 'city_name': 'Bethesda',...</td>\n",
       "      <td>1</td>\n",
       "    </tr>\n",
       "    <tr>\n",
       "      <th>...</th>\n",
       "      <td>...</td>\n",
       "      <td>...</td>\n",
       "      <td>...</td>\n",
       "      <td>...</td>\n",
       "      <td>...</td>\n",
       "      <td>...</td>\n",
       "      <td>...</td>\n",
       "      <td>...</td>\n",
       "      <td>...</td>\n",
       "      <td>...</td>\n",
       "      <td>...</td>\n",
       "      <td>...</td>\n",
       "      <td>...</td>\n",
       "      <td>...</td>\n",
       "    </tr>\n",
       "    <tr>\n",
       "      <th>258</th>\n",
       "      <td>10.1016/b978-0-12-107607-8.50011-8</td>\n",
       "      <td>pub.1053143456</td>\n",
       "      <td>[0071-1446]</td>\n",
       "      <td>Elsevier</td>\n",
       "      <td>chapter</td>\n",
       "      <td>1976</td>\n",
       "      <td>NaN</td>\n",
       "      <td>NaN</td>\n",
       "      <td>pub.1013740626</td>\n",
       "      <td>[{'affiliations': [{'city': 'Oxford', 'city_id...</td>\n",
       "      <td>1985</td>\n",
       "      <td>pub.1053143456</td>\n",
       "      <td>[{'acronym': 'NIGMS', 'city_name': 'Bethesda',...</td>\n",
       "      <td>9</td>\n",
       "    </tr>\n",
       "    <tr>\n",
       "      <th>259</th>\n",
       "      <td>10.1016/s0065-3233(08)60458-1</td>\n",
       "      <td>pub.1022309611</td>\n",
       "      <td>[1876-1623, 1876-1631, 0065-3233]</td>\n",
       "      <td>Elsevier</td>\n",
       "      <td>chapter</td>\n",
       "      <td>1979</td>\n",
       "      <td>NaN</td>\n",
       "      <td>NaN</td>\n",
       "      <td>pub.1014167586</td>\n",
       "      <td>[{'affiliations': [{'city': 'Birmingham', 'cit...</td>\n",
       "      <td>1985</td>\n",
       "      <td>pub.1022309611</td>\n",
       "      <td>[{'acronym': 'NCI', 'city_name': 'Bethesda', '...</td>\n",
       "      <td>6</td>\n",
       "    </tr>\n",
       "    <tr>\n",
       "      <th>260</th>\n",
       "      <td>10.1002/9780470122891.ch6</td>\n",
       "      <td>pub.1037564072</td>\n",
       "      <td>[0065-258X, 1934-4694]</td>\n",
       "      <td>Wiley</td>\n",
       "      <td>chapter</td>\n",
       "      <td>1976</td>\n",
       "      <td>NaN</td>\n",
       "      <td>NaN</td>\n",
       "      <td>pub.1005242960</td>\n",
       "      <td>[{'affiliations': [{'city': 'Oxford', 'city_id...</td>\n",
       "      <td>1985</td>\n",
       "      <td>pub.1037564072</td>\n",
       "      <td>[{'acronym': 'NIDDK', 'city_name': 'Bethesda',...</td>\n",
       "      <td>9</td>\n",
       "    </tr>\n",
       "    <tr>\n",
       "      <th>261</th>\n",
       "      <td>10.1002/9780470720745.ch1</td>\n",
       "      <td>pub.1001638912</td>\n",
       "      <td>[1528-2511, 1935-4657]</td>\n",
       "      <td>Wiley</td>\n",
       "      <td>chapter</td>\n",
       "      <td>1982</td>\n",
       "      <td>NaN</td>\n",
       "      <td>NaN</td>\n",
       "      <td>pub.1002830050</td>\n",
       "      <td>[{'affiliations': [{'city': 'Kansas City', 'ci...</td>\n",
       "      <td>1985</td>\n",
       "      <td>pub.1001638912</td>\n",
       "      <td>[{'acronym': 'NIGMS', 'city_name': 'Bethesda',...</td>\n",
       "      <td>3</td>\n",
       "    </tr>\n",
       "    <tr>\n",
       "      <th>262</th>\n",
       "      <td>10.1016/s0091-679x(08)61797-5</td>\n",
       "      <td>pub.1018711343</td>\n",
       "      <td>[0091-679X, 0091-6579]</td>\n",
       "      <td>Elsevier</td>\n",
       "      <td>chapter</td>\n",
       "      <td>1976</td>\n",
       "      <td>NaN</td>\n",
       "      <td>NaN</td>\n",
       "      <td>pub.1052956799</td>\n",
       "      <td>[{'affiliations': [{'city': 'Oxford', 'city_id...</td>\n",
       "      <td>1985</td>\n",
       "      <td>pub.1018711343</td>\n",
       "      <td>[{'acronym': 'NIDDK', 'city_name': 'Bethesda',...</td>\n",
       "      <td>9</td>\n",
       "    </tr>\n",
       "  </tbody>\n",
       "</table>\n",
       "<p>263 rows × 14 columns</p>\n",
       "</div>"
      ],
      "text/plain": [
       "                                    doi              id  \\\n",
       "0           10.1182/blood.v64.4.763.763  pub.1121768074   \n",
       "1                    10.1007/bf01611021  pub.1037844075   \n",
       "2                    10.1007/bf01611021  pub.1037844075   \n",
       "3          10.1016/0014-4827(84)90784-5  pub.1037199487   \n",
       "4          10.1016/0014-4827(84)90784-5  pub.1037199487   \n",
       "..                                  ...             ...   \n",
       "258  10.1016/b978-0-12-107607-8.50011-8  pub.1053143456   \n",
       "259       10.1016/s0065-3233(08)60458-1  pub.1022309611   \n",
       "260           10.1002/9780470122891.ch6  pub.1037564072   \n",
       "261           10.1002/9780470720745.ch1  pub.1001638912   \n",
       "262       10.1016/s0091-679x(08)61797-5  pub.1018711343   \n",
       "\n",
       "                                  issn                       publisher  \\\n",
       "0               [0006-4971, 1528-0020]  American Society of Hematology   \n",
       "1               [0007-4861, 1432-0800]                 Springer Nature   \n",
       "2               [0007-4861, 1432-0800]                 Springer Nature   \n",
       "3               [0014-4827, 1090-2422]                        Elsevier   \n",
       "4               [0014-4827, 1090-2422]                        Elsevier   \n",
       "..                                 ...                             ...   \n",
       "258                        [0071-1446]                        Elsevier   \n",
       "259  [1876-1623, 1876-1631, 0065-3233]                        Elsevier   \n",
       "260             [0065-258X, 1934-4694]                           Wiley   \n",
       "261             [1528-2511, 1935-4657]                           Wiley   \n",
       "262             [0091-679X, 0091-6579]                        Elsevier   \n",
       "\n",
       "        type  year    journal.id  \\\n",
       "0    article  1984  jour.1085025   \n",
       "1    article  1981  jour.1005778   \n",
       "2    article  1981  jour.1005778   \n",
       "3    article  1984  jour.1017523   \n",
       "4    article  1984  jour.1017523   \n",
       "..       ...   ...           ...   \n",
       "258  chapter  1976           NaN   \n",
       "259  chapter  1979           NaN   \n",
       "260  chapter  1976           NaN   \n",
       "261  chapter  1982           NaN   \n",
       "262  chapter  1976           NaN   \n",
       "\n",
       "                                         journal.title UM_publication_ID  \\\n",
       "0                                                Blood    pub.1052956799   \n",
       "1    Bulletin of Environmental Contamination and To...    pub.1040335484   \n",
       "2    Bulletin of Environmental Contamination and To...    pub.1013740626   \n",
       "3                           Experimental Cell Research    pub.1052956799   \n",
       "4                           Experimental Cell Research    pub.1005242960   \n",
       "..                                                 ...               ...   \n",
       "258                                                NaN    pub.1013740626   \n",
       "259                                                NaN    pub.1014167586   \n",
       "260                                                NaN    pub.1005242960   \n",
       "261                                                NaN    pub.1002830050   \n",
       "262                                                NaN    pub.1052956799   \n",
       "\n",
       "                                        UM_pub_authors  UM_year  \\\n",
       "0    [{'affiliations': [{'city': 'Oxford', 'city_id...     1985   \n",
       "1    [{'affiliations': [{'city': 'Oxford', 'city_id...     1985   \n",
       "2    [{'affiliations': [{'city': 'Oxford', 'city_id...     1985   \n",
       "3    [{'affiliations': [{'city': 'Oxford', 'city_id...     1985   \n",
       "4    [{'affiliations': [{'city': 'Oxford', 'city_id...     1985   \n",
       "..                                                 ...      ...   \n",
       "258  [{'affiliations': [{'city': 'Oxford', 'city_id...     1985   \n",
       "259  [{'affiliations': [{'city': 'Birmingham', 'cit...     1985   \n",
       "260  [{'affiliations': [{'city': 'Oxford', 'city_id...     1985   \n",
       "261  [{'affiliations': [{'city': 'Kansas City', 'ci...     1985   \n",
       "262  [{'affiliations': [{'city': 'Oxford', 'city_id...     1985   \n",
       "\n",
       "      reference_ids                                            funders  \\\n",
       "0    pub.1121768074  [{'acronym': 'NIDDK', 'city_name': 'Bethesda',...   \n",
       "1    pub.1037844075  [{'acronym': 'NIGMS', 'city_name': 'Bethesda',...   \n",
       "2    pub.1037844075  [{'acronym': 'NIGMS', 'city_name': 'Bethesda',...   \n",
       "3    pub.1037199487  [{'acronym': 'NIDDK', 'city_name': 'Bethesda',...   \n",
       "4    pub.1037199487  [{'acronym': 'NIDDK', 'city_name': 'Bethesda',...   \n",
       "..              ...                                                ...   \n",
       "258  pub.1053143456  [{'acronym': 'NIGMS', 'city_name': 'Bethesda',...   \n",
       "259  pub.1022309611  [{'acronym': 'NCI', 'city_name': 'Bethesda', '...   \n",
       "260  pub.1037564072  [{'acronym': 'NIDDK', 'city_name': 'Bethesda',...   \n",
       "261  pub.1001638912  [{'acronym': 'NIGMS', 'city_name': 'Bethesda',...   \n",
       "262  pub.1018711343  [{'acronym': 'NIDDK', 'city_name': 'Bethesda',...   \n",
       "\n",
       "     citation_age  \n",
       "0               1  \n",
       "1               4  \n",
       "2               4  \n",
       "3               1  \n",
       "4               1  \n",
       "..            ...  \n",
       "258             9  \n",
       "259             6  \n",
       "260             9  \n",
       "261             3  \n",
       "262             9  \n",
       "\n",
       "[263 rows x 14 columns]"
      ]
     },
     "execution_count": 9,
     "metadata": {},
     "output_type": "execute_result"
    }
   ],
   "source": [
    "# Make a list of citation ages by subtracting the citation year from the UM year\n",
    "cycle = 0\n",
    "citation_ages = []\n",
    "\n",
    "for um_year in list(pubs_cited[\"UM_year\"]):\n",
    "    citation_age = int(um_year) - int(pubs_cited[\"year\"][cycle])\n",
    "    citation_ages.append(citation_age)\n",
    "    cycle = cycle + 1\n",
    "\n",
    "# Add the list of citation ages as a new column in the pubs_cited data\n",
    "pubs_cited['citation_age'] = citation_ages\n",
    "pubs_cited"
   ]
  },
  {
   "cell_type": "markdown",
   "id": "f632e6b7-3153-4c9f-9bec-b8eca77404b5",
   "metadata": {},
   "source": [
    "## More info about journals and publishers"
   ]
  },
  {
   "cell_type": "code",
   "execution_count": 10,
   "id": "ddd6f2a4-373f-4a3a-b006-6bba15230690",
   "metadata": {},
   "outputs": [
    {
     "data": {
      "text/plain": [
       "count              256\n",
       "unique             119\n",
       "top       jour.1085025\n",
       "freq                12\n",
       "Name: journal.id, dtype: object"
      ]
     },
     "execution_count": 10,
     "metadata": {},
     "output_type": "execute_result"
    }
   ],
   "source": [
    "pubs_cited['journal.id'].describe()"
   ]
  },
  {
   "cell_type": "code",
   "execution_count": 11,
   "id": "1a188a52-5243-4b44-806d-6fdded756a90",
   "metadata": {},
   "outputs": [
    {
     "data": {
      "text/html": [
       "<div>\n",
       "<style scoped>\n",
       "    .dataframe tbody tr th:only-of-type {\n",
       "        vertical-align: middle;\n",
       "    }\n",
       "\n",
       "    .dataframe tbody tr th {\n",
       "        vertical-align: top;\n",
       "    }\n",
       "\n",
       "    .dataframe thead th {\n",
       "        text-align: right;\n",
       "    }\n",
       "</style>\n",
       "<table border=\"1\" class=\"dataframe\">\n",
       "  <thead>\n",
       "    <tr style=\"text-align: right;\">\n",
       "      <th></th>\n",
       "      <th>title</th>\n",
       "      <th>publisher</th>\n",
       "      <th>citations</th>\n",
       "    </tr>\n",
       "    <tr>\n",
       "      <th>index</th>\n",
       "      <th></th>\n",
       "      <th></th>\n",
       "      <th></th>\n",
       "    </tr>\n",
       "  </thead>\n",
       "  <tbody>\n",
       "    <tr>\n",
       "      <th>0</th>\n",
       "      <td>Blood</td>\n",
       "      <td>American Society of Hematology</td>\n",
       "      <td>12</td>\n",
       "    </tr>\n",
       "    <tr>\n",
       "      <th>1</th>\n",
       "      <td>Journal of Cell Biology</td>\n",
       "      <td>Rockefeller University Press</td>\n",
       "      <td>10</td>\n",
       "    </tr>\n",
       "    <tr>\n",
       "      <th>2</th>\n",
       "      <td>Biochimica et Biophysica Acta</td>\n",
       "      <td>Elsevier</td>\n",
       "      <td>9</td>\n",
       "    </tr>\n",
       "    <tr>\n",
       "      <th>3</th>\n",
       "      <td>The Journal of Clinical Endocrinology &amp; Metabo...</td>\n",
       "      <td>The Endocrine Society</td>\n",
       "      <td>9</td>\n",
       "    </tr>\n",
       "    <tr>\n",
       "      <th>4</th>\n",
       "      <td>Journal of Medicinal Chemistry</td>\n",
       "      <td>American Chemical Society (ACS)</td>\n",
       "      <td>8</td>\n",
       "    </tr>\n",
       "    <tr>\n",
       "      <th>5</th>\n",
       "      <td>Journal of Bacteriology</td>\n",
       "      <td>American Society for Microbiology</td>\n",
       "      <td>8</td>\n",
       "    </tr>\n",
       "    <tr>\n",
       "      <th>6</th>\n",
       "      <td>Journal of Ultrastructure Research</td>\n",
       "      <td>Elsevier</td>\n",
       "      <td>6</td>\n",
       "    </tr>\n",
       "    <tr>\n",
       "      <th>7</th>\n",
       "      <td>Nature</td>\n",
       "      <td>Springer Nature</td>\n",
       "      <td>6</td>\n",
       "    </tr>\n",
       "    <tr>\n",
       "      <th>8</th>\n",
       "      <td>Journal of Biological Chemistry</td>\n",
       "      <td>Elsevier</td>\n",
       "      <td>6</td>\n",
       "    </tr>\n",
       "    <tr>\n",
       "      <th>9</th>\n",
       "      <td>Science</td>\n",
       "      <td>American Association for the Advancement of Sc...</td>\n",
       "      <td>5</td>\n",
       "    </tr>\n",
       "  </tbody>\n",
       "</table>\n",
       "</div>"
      ],
      "text/plain": [
       "                                                   title  \\\n",
       "index                                                      \n",
       "0                                                  Blood   \n",
       "1                                Journal of Cell Biology   \n",
       "2                          Biochimica et Biophysica Acta   \n",
       "3      The Journal of Clinical Endocrinology & Metabo...   \n",
       "4                         Journal of Medicinal Chemistry   \n",
       "5                                Journal of Bacteriology   \n",
       "6                     Journal of Ultrastructure Research   \n",
       "7                                                 Nature   \n",
       "8                        Journal of Biological Chemistry   \n",
       "9                                                Science   \n",
       "\n",
       "                                               publisher  citations  \n",
       "index                                                                \n",
       "0                         American Society of Hematology         12  \n",
       "1                           Rockefeller University Press         10  \n",
       "2                                               Elsevier          9  \n",
       "3                                  The Endocrine Society          9  \n",
       "4                        American Chemical Society (ACS)          8  \n",
       "5                      American Society for Microbiology          8  \n",
       "6                                               Elsevier          6  \n",
       "7                                        Springer Nature          6  \n",
       "8                                               Elsevier          6  \n",
       "9      American Association for the Advancement of Sc...          5  "
      ]
     },
     "execution_count": 11,
     "metadata": {},
     "output_type": "execute_result"
    }
   ],
   "source": [
    "journals = pubs_cited.value_counts(['journal.title', 'publisher'])\n",
    "journals = journals.to_frame().reset_index().rename(columns= {0: 'citations', 'journal.title' : 'title'})\n",
    "journals.index.name = 'index'\n",
    "\n",
    "#preview\n",
    "journals.head(10)"
   ]
  },
  {
   "cell_type": "code",
   "execution_count": 12,
   "id": "349c19cc-b2ba-4114-a90f-d976ec459fc7",
   "metadata": {},
   "outputs": [
    {
     "data": {
      "application/vnd.plotly.v1+json": {
       "config": {
        "plotlyServerURL": "https://plot.ly"
       },
       "data": [
        {
         "alignmentgroup": "True",
         "hovertemplate": "publisher=American Society of Hematology<br>title=%{x}<br>citations=%{y}<extra></extra>",
         "legendgroup": "American Society of Hematology",
         "marker": {
          "color": "#636efa",
          "pattern": {
           "shape": ""
          }
         },
         "name": "American Society of Hematology",
         "offsetgroup": "American Society of Hematology",
         "orientation": "v",
         "showlegend": true,
         "textposition": "auto",
         "type": "bar",
         "x": [
          "Blood"
         ],
         "xaxis": "x",
         "y": [
          12
         ],
         "yaxis": "y"
        },
        {
         "alignmentgroup": "True",
         "hovertemplate": "publisher=Rockefeller University Press<br>title=%{x}<br>citations=%{y}<extra></extra>",
         "legendgroup": "Rockefeller University Press",
         "marker": {
          "color": "#EF553B",
          "pattern": {
           "shape": ""
          }
         },
         "name": "Rockefeller University Press",
         "offsetgroup": "Rockefeller University Press",
         "orientation": "v",
         "showlegend": true,
         "textposition": "auto",
         "type": "bar",
         "x": [
          "Journal of Cell Biology"
         ],
         "xaxis": "x",
         "y": [
          10
         ],
         "yaxis": "y"
        },
        {
         "alignmentgroup": "True",
         "hovertemplate": "publisher=Elsevier<br>title=%{x}<br>citations=%{y}<extra></extra>",
         "legendgroup": "Elsevier",
         "marker": {
          "color": "#00cc96",
          "pattern": {
           "shape": ""
          }
         },
         "name": "Elsevier",
         "offsetgroup": "Elsevier",
         "orientation": "v",
         "showlegend": true,
         "textposition": "auto",
         "type": "bar",
         "x": [
          "Biochimica et Biophysica Acta",
          "Journal of Ultrastructure Research",
          "Journal of Biological Chemistry",
          "Chemistry and Physics of Lipids",
          "Experimental Cell Research",
          "Archives of Biochemistry and Biophysics",
          "Journal of Lipid Research",
          "Toxicology Letters",
          "Biochemical and Biophysical Research Communications",
          "Toxicology and Applied Pharmacology",
          "Journal of Pharmaceutical Sciences",
          "Toxicological Sciences",
          "Leukemia Research"
         ],
         "xaxis": "x",
         "y": [
          9,
          6,
          6,
          4,
          3,
          2,
          2,
          2,
          2,
          2,
          2,
          2,
          1
         ],
         "yaxis": "y"
        },
        {
         "alignmentgroup": "True",
         "hovertemplate": "publisher=The Endocrine Society<br>title=%{x}<br>citations=%{y}<extra></extra>",
         "legendgroup": "The Endocrine Society",
         "marker": {
          "color": "#ab63fa",
          "pattern": {
           "shape": ""
          }
         },
         "name": "The Endocrine Society",
         "offsetgroup": "The Endocrine Society",
         "orientation": "v",
         "showlegend": true,
         "textposition": "auto",
         "type": "bar",
         "x": [
          "The Journal of Clinical Endocrinology & Metabolism"
         ],
         "xaxis": "x",
         "y": [
          9
         ],
         "yaxis": "y"
        },
        {
         "alignmentgroup": "True",
         "hovertemplate": "publisher=American Chemical Society (ACS)<br>title=%{x}<br>citations=%{y}<extra></extra>",
         "legendgroup": "American Chemical Society (ACS)",
         "marker": {
          "color": "#FFA15A",
          "pattern": {
           "shape": ""
          }
         },
         "name": "American Chemical Society (ACS)",
         "offsetgroup": "American Chemical Society (ACS)",
         "orientation": "v",
         "showlegend": true,
         "textposition": "auto",
         "type": "bar",
         "x": [
          "Journal of Medicinal Chemistry",
          "Journal of the American Chemical Society",
          "Biochemistry"
         ],
         "xaxis": "x",
         "y": [
          8,
          4,
          4
         ],
         "yaxis": "y"
        },
        {
         "alignmentgroup": "True",
         "hovertemplate": "publisher=American Society for Microbiology<br>title=%{x}<br>citations=%{y}<extra></extra>",
         "legendgroup": "American Society for Microbiology",
         "marker": {
          "color": "#19d3f3",
          "pattern": {
           "shape": ""
          }
         },
         "name": "American Society for Microbiology",
         "offsetgroup": "American Society for Microbiology",
         "orientation": "v",
         "showlegend": true,
         "textposition": "auto",
         "type": "bar",
         "x": [
          "Journal of Bacteriology",
          "Microbiology and Molecular Biology Reviews"
         ],
         "xaxis": "x",
         "y": [
          8,
          1
         ],
         "yaxis": "y"
        },
        {
         "alignmentgroup": "True",
         "hovertemplate": "publisher=Springer Nature<br>title=%{x}<br>citations=%{y}<extra></extra>",
         "legendgroup": "Springer Nature",
         "marker": {
          "color": "#FF6692",
          "pattern": {
           "shape": ""
          }
         },
         "name": "Springer Nature",
         "offsetgroup": "Springer Nature",
         "orientation": "v",
         "showlegend": true,
         "textposition": "auto",
         "type": "bar",
         "x": [
          "Nature",
          "Pediatric Research",
          "Bulletin of Environmental Contamination and Toxicology",
          "The Journal of Membrane Biology",
          "Cell Pathology",
          "Cell and Tissue Research",
          "Seminars in Immunopathology",
          "Molecular and Cellular Biochemistry"
         ],
         "xaxis": "x",
         "y": [
          6,
          3,
          3,
          2,
          2,
          2,
          2,
          1
         ],
         "yaxis": "y"
        },
        {
         "alignmentgroup": "True",
         "hovertemplate": "publisher=American Association for the Advancement of Science (AAAS)<br>title=%{x}<br>citations=%{y}<extra></extra>",
         "legendgroup": "American Association for the Advancement of Science (AAAS)",
         "marker": {
          "color": "#B6E880",
          "pattern": {
           "shape": ""
          }
         },
         "name": "American Association for the Advancement of Science (AAAS)",
         "offsetgroup": "American Association for the Advancement of Science (AAAS)",
         "orientation": "v",
         "showlegend": true,
         "textposition": "auto",
         "type": "bar",
         "x": [
          "Science"
         ],
         "xaxis": "x",
         "y": [
          5
         ],
         "yaxis": "y"
        },
        {
         "alignmentgroup": "True",
         "hovertemplate": "publisher=American Physiological Society<br>title=%{x}<br>citations=%{y}<extra></extra>",
         "legendgroup": "American Physiological Society",
         "marker": {
          "color": "#FF97FF",
          "pattern": {
           "shape": ""
          }
         },
         "name": "American Physiological Society",
         "offsetgroup": "American Physiological Society",
         "orientation": "v",
         "showlegend": true,
         "textposition": "auto",
         "type": "bar",
         "x": [
          "American Journal of Physiology"
         ],
         "xaxis": "x",
         "y": [
          5
         ],
         "yaxis": "y"
        },
        {
         "alignmentgroup": "True",
         "hovertemplate": "publisher=Proceedings of the National Academy of Sciences<br>title=%{x}<br>citations=%{y}<extra></extra>",
         "legendgroup": "Proceedings of the National Academy of Sciences",
         "marker": {
          "color": "#FECB52",
          "pattern": {
           "shape": ""
          }
         },
         "name": "Proceedings of the National Academy of Sciences",
         "offsetgroup": "Proceedings of the National Academy of Sciences",
         "orientation": "v",
         "showlegend": true,
         "textposition": "auto",
         "type": "bar",
         "x": [
          "Proceedings of the National Academy of Sciences of the United States of America"
         ],
         "xaxis": "x",
         "y": [
          4
         ],
         "yaxis": "y"
        },
        {
         "alignmentgroup": "True",
         "hovertemplate": "publisher=Wiley<br>title=%{x}<br>citations=%{y}<extra></extra>",
         "legendgroup": "Wiley",
         "marker": {
          "color": "#636efa",
          "pattern": {
           "shape": ""
          }
         },
         "name": "Wiley",
         "offsetgroup": "Wiley",
         "orientation": "v",
         "showlegend": true,
         "textposition": "auto",
         "type": "bar",
         "x": [
          "British Journal of Haematology",
          "The Journal of Physiology",
          "The FEBS Journal",
          "International Journal of Immunogenetics",
          "Archiv der Pharmazie",
          "Cancer"
         ],
         "xaxis": "x",
         "y": [
          4,
          4,
          3,
          2,
          2,
          2
         ],
         "yaxis": "y"
        },
        {
         "alignmentgroup": "True",
         "hovertemplate": "publisher=American Academy of Pediatrics (AAP)<br>title=%{x}<br>citations=%{y}<extra></extra>",
         "legendgroup": "American Academy of Pediatrics (AAP)",
         "marker": {
          "color": "#EF553B",
          "pattern": {
           "shape": ""
          }
         },
         "name": "American Academy of Pediatrics (AAP)",
         "offsetgroup": "American Academy of Pediatrics (AAP)",
         "orientation": "v",
         "showlegend": true,
         "textposition": "auto",
         "type": "bar",
         "x": [
          "Pediatrics"
         ],
         "xaxis": "x",
         "y": [
          3
         ],
         "yaxis": "y"
        },
        {
         "alignmentgroup": "True",
         "hovertemplate": "publisher=American Medical Association (AMA)<br>title=%{x}<br>citations=%{y}<extra></extra>",
         "legendgroup": "American Medical Association (AMA)",
         "marker": {
          "color": "#00cc96",
          "pattern": {
           "shape": ""
          }
         },
         "name": "American Medical Association (AMA)",
         "offsetgroup": "American Medical Association (AMA)",
         "orientation": "v",
         "showlegend": true,
         "textposition": "auto",
         "type": "bar",
         "x": [
          "JAMA Pediatrics"
         ],
         "xaxis": "x",
         "y": [
          3
         ],
         "yaxis": "y"
        },
        {
         "alignmentgroup": "True",
         "hovertemplate": "publisher=Oxford University Press (OUP)<br>title=%{x}<br>citations=%{y}<extra></extra>",
         "legendgroup": "Oxford University Press (OUP)",
         "marker": {
          "color": "#ab63fa",
          "pattern": {
           "shape": ""
          }
         },
         "name": "Oxford University Press (OUP)",
         "offsetgroup": "Oxford University Press (OUP)",
         "orientation": "v",
         "showlegend": true,
         "textposition": "auto",
         "type": "bar",
         "x": [
          "Plant Physiology",
          "Journal of Animal Science",
          "Genetics",
          "Biology of Reproduction",
          "Journal of the National Cancer Institute"
         ],
         "xaxis": "x",
         "y": [
          3,
          2,
          2,
          2,
          2
         ],
         "yaxis": "y"
        },
        {
         "alignmentgroup": "True",
         "hovertemplate": "publisher=SAGE Publications<br>title=%{x}<br>citations=%{y}<extra></extra>",
         "legendgroup": "SAGE Publications",
         "marker": {
          "color": "#FFA15A",
          "pattern": {
           "shape": ""
          }
         },
         "name": "SAGE Publications",
         "offsetgroup": "SAGE Publications",
         "orientation": "v",
         "showlegend": true,
         "textposition": "auto",
         "type": "bar",
         "x": [
          "Journal of Histochemistry & Cytochemistry"
         ],
         "xaxis": "x",
         "y": [
          3
         ],
         "yaxis": "y"
        },
        {
         "alignmentgroup": "True",
         "hovertemplate": "publisher=The Company of Biologists<br>title=%{x}<br>citations=%{y}<extra></extra>",
         "legendgroup": "The Company of Biologists",
         "marker": {
          "color": "#19d3f3",
          "pattern": {
           "shape": ""
          }
         },
         "name": "The Company of Biologists",
         "offsetgroup": "The Company of Biologists",
         "orientation": "v",
         "showlegend": true,
         "textposition": "auto",
         "type": "bar",
         "x": [
          "Journal of Cell Science",
          "Journal of Experimental Biology"
         ],
         "xaxis": "x",
         "y": [
          2,
          2
         ],
         "yaxis": "y"
        },
        {
         "alignmentgroup": "True",
         "hovertemplate": "publisher=American Society for Clinical Investigation<br>title=%{x}<br>citations=%{y}<extra></extra>",
         "legendgroup": "American Society for Clinical Investigation",
         "marker": {
          "color": "#FF6692",
          "pattern": {
           "shape": ""
          }
         },
         "name": "American Society for Clinical Investigation",
         "offsetgroup": "American Society for Clinical Investigation",
         "orientation": "v",
         "showlegend": true,
         "textposition": "auto",
         "type": "bar",
         "x": [
          "Journal of Clinical Investigation"
         ],
         "xaxis": "x",
         "y": [
          2
         ],
         "yaxis": "y"
        },
        {
         "alignmentgroup": "True",
         "hovertemplate": "publisher=BMJ<br>title=%{x}<br>citations=%{y}<extra></extra>",
         "legendgroup": "BMJ",
         "marker": {
          "color": "#B6E880",
          "pattern": {
           "shape": ""
          }
         },
         "name": "BMJ",
         "offsetgroup": "BMJ",
         "orientation": "v",
         "showlegend": true,
         "textposition": "auto",
         "type": "bar",
         "x": [
          "The BMJ"
         ],
         "xaxis": "x",
         "y": [
          2
         ],
         "yaxis": "y"
        }
       ],
       "layout": {
        "autosize": true,
        "barmode": "relative",
        "legend": {
         "title": {
          "text": "publisher"
         },
         "tracegroupgap": 0
        },
        "template": {
         "data": {
          "bar": [
           {
            "error_x": {
             "color": "#2a3f5f"
            },
            "error_y": {
             "color": "#2a3f5f"
            },
            "marker": {
             "line": {
              "color": "#E5ECF6",
              "width": 0.5
             },
             "pattern": {
              "fillmode": "overlay",
              "size": 10,
              "solidity": 0.2
             }
            },
            "type": "bar"
           }
          ],
          "barpolar": [
           {
            "marker": {
             "line": {
              "color": "#E5ECF6",
              "width": 0.5
             },
             "pattern": {
              "fillmode": "overlay",
              "size": 10,
              "solidity": 0.2
             }
            },
            "type": "barpolar"
           }
          ],
          "carpet": [
           {
            "aaxis": {
             "endlinecolor": "#2a3f5f",
             "gridcolor": "white",
             "linecolor": "white",
             "minorgridcolor": "white",
             "startlinecolor": "#2a3f5f"
            },
            "baxis": {
             "endlinecolor": "#2a3f5f",
             "gridcolor": "white",
             "linecolor": "white",
             "minorgridcolor": "white",
             "startlinecolor": "#2a3f5f"
            },
            "type": "carpet"
           }
          ],
          "choropleth": [
           {
            "colorbar": {
             "outlinewidth": 0,
             "ticks": ""
            },
            "type": "choropleth"
           }
          ],
          "contour": [
           {
            "colorbar": {
             "outlinewidth": 0,
             "ticks": ""
            },
            "colorscale": [
             [
              0,
              "#0d0887"
             ],
             [
              0.1111111111111111,
              "#46039f"
             ],
             [
              0.2222222222222222,
              "#7201a8"
             ],
             [
              0.3333333333333333,
              "#9c179e"
             ],
             [
              0.4444444444444444,
              "#bd3786"
             ],
             [
              0.5555555555555556,
              "#d8576b"
             ],
             [
              0.6666666666666666,
              "#ed7953"
             ],
             [
              0.7777777777777778,
              "#fb9f3a"
             ],
             [
              0.8888888888888888,
              "#fdca26"
             ],
             [
              1,
              "#f0f921"
             ]
            ],
            "type": "contour"
           }
          ],
          "contourcarpet": [
           {
            "colorbar": {
             "outlinewidth": 0,
             "ticks": ""
            },
            "type": "contourcarpet"
           }
          ],
          "heatmap": [
           {
            "colorbar": {
             "outlinewidth": 0,
             "ticks": ""
            },
            "colorscale": [
             [
              0,
              "#0d0887"
             ],
             [
              0.1111111111111111,
              "#46039f"
             ],
             [
              0.2222222222222222,
              "#7201a8"
             ],
             [
              0.3333333333333333,
              "#9c179e"
             ],
             [
              0.4444444444444444,
              "#bd3786"
             ],
             [
              0.5555555555555556,
              "#d8576b"
             ],
             [
              0.6666666666666666,
              "#ed7953"
             ],
             [
              0.7777777777777778,
              "#fb9f3a"
             ],
             [
              0.8888888888888888,
              "#fdca26"
             ],
             [
              1,
              "#f0f921"
             ]
            ],
            "type": "heatmap"
           }
          ],
          "heatmapgl": [
           {
            "colorbar": {
             "outlinewidth": 0,
             "ticks": ""
            },
            "colorscale": [
             [
              0,
              "#0d0887"
             ],
             [
              0.1111111111111111,
              "#46039f"
             ],
             [
              0.2222222222222222,
              "#7201a8"
             ],
             [
              0.3333333333333333,
              "#9c179e"
             ],
             [
              0.4444444444444444,
              "#bd3786"
             ],
             [
              0.5555555555555556,
              "#d8576b"
             ],
             [
              0.6666666666666666,
              "#ed7953"
             ],
             [
              0.7777777777777778,
              "#fb9f3a"
             ],
             [
              0.8888888888888888,
              "#fdca26"
             ],
             [
              1,
              "#f0f921"
             ]
            ],
            "type": "heatmapgl"
           }
          ],
          "histogram": [
           {
            "marker": {
             "pattern": {
              "fillmode": "overlay",
              "size": 10,
              "solidity": 0.2
             }
            },
            "type": "histogram"
           }
          ],
          "histogram2d": [
           {
            "colorbar": {
             "outlinewidth": 0,
             "ticks": ""
            },
            "colorscale": [
             [
              0,
              "#0d0887"
             ],
             [
              0.1111111111111111,
              "#46039f"
             ],
             [
              0.2222222222222222,
              "#7201a8"
             ],
             [
              0.3333333333333333,
              "#9c179e"
             ],
             [
              0.4444444444444444,
              "#bd3786"
             ],
             [
              0.5555555555555556,
              "#d8576b"
             ],
             [
              0.6666666666666666,
              "#ed7953"
             ],
             [
              0.7777777777777778,
              "#fb9f3a"
             ],
             [
              0.8888888888888888,
              "#fdca26"
             ],
             [
              1,
              "#f0f921"
             ]
            ],
            "type": "histogram2d"
           }
          ],
          "histogram2dcontour": [
           {
            "colorbar": {
             "outlinewidth": 0,
             "ticks": ""
            },
            "colorscale": [
             [
              0,
              "#0d0887"
             ],
             [
              0.1111111111111111,
              "#46039f"
             ],
             [
              0.2222222222222222,
              "#7201a8"
             ],
             [
              0.3333333333333333,
              "#9c179e"
             ],
             [
              0.4444444444444444,
              "#bd3786"
             ],
             [
              0.5555555555555556,
              "#d8576b"
             ],
             [
              0.6666666666666666,
              "#ed7953"
             ],
             [
              0.7777777777777778,
              "#fb9f3a"
             ],
             [
              0.8888888888888888,
              "#fdca26"
             ],
             [
              1,
              "#f0f921"
             ]
            ],
            "type": "histogram2dcontour"
           }
          ],
          "mesh3d": [
           {
            "colorbar": {
             "outlinewidth": 0,
             "ticks": ""
            },
            "type": "mesh3d"
           }
          ],
          "parcoords": [
           {
            "line": {
             "colorbar": {
              "outlinewidth": 0,
              "ticks": ""
             }
            },
            "type": "parcoords"
           }
          ],
          "pie": [
           {
            "automargin": true,
            "type": "pie"
           }
          ],
          "scatter": [
           {
            "fillpattern": {
             "fillmode": "overlay",
             "size": 10,
             "solidity": 0.2
            },
            "type": "scatter"
           }
          ],
          "scatter3d": [
           {
            "line": {
             "colorbar": {
              "outlinewidth": 0,
              "ticks": ""
             }
            },
            "marker": {
             "colorbar": {
              "outlinewidth": 0,
              "ticks": ""
             }
            },
            "type": "scatter3d"
           }
          ],
          "scattercarpet": [
           {
            "marker": {
             "colorbar": {
              "outlinewidth": 0,
              "ticks": ""
             }
            },
            "type": "scattercarpet"
           }
          ],
          "scattergeo": [
           {
            "marker": {
             "colorbar": {
              "outlinewidth": 0,
              "ticks": ""
             }
            },
            "type": "scattergeo"
           }
          ],
          "scattergl": [
           {
            "marker": {
             "colorbar": {
              "outlinewidth": 0,
              "ticks": ""
             }
            },
            "type": "scattergl"
           }
          ],
          "scattermapbox": [
           {
            "marker": {
             "colorbar": {
              "outlinewidth": 0,
              "ticks": ""
             }
            },
            "type": "scattermapbox"
           }
          ],
          "scatterpolar": [
           {
            "marker": {
             "colorbar": {
              "outlinewidth": 0,
              "ticks": ""
             }
            },
            "type": "scatterpolar"
           }
          ],
          "scatterpolargl": [
           {
            "marker": {
             "colorbar": {
              "outlinewidth": 0,
              "ticks": ""
             }
            },
            "type": "scatterpolargl"
           }
          ],
          "scatterternary": [
           {
            "marker": {
             "colorbar": {
              "outlinewidth": 0,
              "ticks": ""
             }
            },
            "type": "scatterternary"
           }
          ],
          "surface": [
           {
            "colorbar": {
             "outlinewidth": 0,
             "ticks": ""
            },
            "colorscale": [
             [
              0,
              "#0d0887"
             ],
             [
              0.1111111111111111,
              "#46039f"
             ],
             [
              0.2222222222222222,
              "#7201a8"
             ],
             [
              0.3333333333333333,
              "#9c179e"
             ],
             [
              0.4444444444444444,
              "#bd3786"
             ],
             [
              0.5555555555555556,
              "#d8576b"
             ],
             [
              0.6666666666666666,
              "#ed7953"
             ],
             [
              0.7777777777777778,
              "#fb9f3a"
             ],
             [
              0.8888888888888888,
              "#fdca26"
             ],
             [
              1,
              "#f0f921"
             ]
            ],
            "type": "surface"
           }
          ],
          "table": [
           {
            "cells": {
             "fill": {
              "color": "#EBF0F8"
             },
             "line": {
              "color": "white"
             }
            },
            "header": {
             "fill": {
              "color": "#C8D4E3"
             },
             "line": {
              "color": "white"
             }
            },
            "type": "table"
           }
          ]
         },
         "layout": {
          "annotationdefaults": {
           "arrowcolor": "#2a3f5f",
           "arrowhead": 0,
           "arrowwidth": 1
          },
          "autotypenumbers": "strict",
          "coloraxis": {
           "colorbar": {
            "outlinewidth": 0,
            "ticks": ""
           }
          },
          "colorscale": {
           "diverging": [
            [
             0,
             "#8e0152"
            ],
            [
             0.1,
             "#c51b7d"
            ],
            [
             0.2,
             "#de77ae"
            ],
            [
             0.3,
             "#f1b6da"
            ],
            [
             0.4,
             "#fde0ef"
            ],
            [
             0.5,
             "#f7f7f7"
            ],
            [
             0.6,
             "#e6f5d0"
            ],
            [
             0.7,
             "#b8e186"
            ],
            [
             0.8,
             "#7fbc41"
            ],
            [
             0.9,
             "#4d9221"
            ],
            [
             1,
             "#276419"
            ]
           ],
           "sequential": [
            [
             0,
             "#0d0887"
            ],
            [
             0.1111111111111111,
             "#46039f"
            ],
            [
             0.2222222222222222,
             "#7201a8"
            ],
            [
             0.3333333333333333,
             "#9c179e"
            ],
            [
             0.4444444444444444,
             "#bd3786"
            ],
            [
             0.5555555555555556,
             "#d8576b"
            ],
            [
             0.6666666666666666,
             "#ed7953"
            ],
            [
             0.7777777777777778,
             "#fb9f3a"
            ],
            [
             0.8888888888888888,
             "#fdca26"
            ],
            [
             1,
             "#f0f921"
            ]
           ],
           "sequentialminus": [
            [
             0,
             "#0d0887"
            ],
            [
             0.1111111111111111,
             "#46039f"
            ],
            [
             0.2222222222222222,
             "#7201a8"
            ],
            [
             0.3333333333333333,
             "#9c179e"
            ],
            [
             0.4444444444444444,
             "#bd3786"
            ],
            [
             0.5555555555555556,
             "#d8576b"
            ],
            [
             0.6666666666666666,
             "#ed7953"
            ],
            [
             0.7777777777777778,
             "#fb9f3a"
            ],
            [
             0.8888888888888888,
             "#fdca26"
            ],
            [
             1,
             "#f0f921"
            ]
           ]
          },
          "colorway": [
           "#636efa",
           "#EF553B",
           "#00cc96",
           "#ab63fa",
           "#FFA15A",
           "#19d3f3",
           "#FF6692",
           "#B6E880",
           "#FF97FF",
           "#FECB52"
          ],
          "font": {
           "color": "#2a3f5f"
          },
          "geo": {
           "bgcolor": "white",
           "lakecolor": "white",
           "landcolor": "#E5ECF6",
           "showlakes": true,
           "showland": true,
           "subunitcolor": "white"
          },
          "hoverlabel": {
           "align": "left"
          },
          "hovermode": "closest",
          "mapbox": {
           "style": "light"
          },
          "paper_bgcolor": "white",
          "plot_bgcolor": "#E5ECF6",
          "polar": {
           "angularaxis": {
            "gridcolor": "white",
            "linecolor": "white",
            "ticks": ""
           },
           "bgcolor": "#E5ECF6",
           "radialaxis": {
            "gridcolor": "white",
            "linecolor": "white",
            "ticks": ""
           }
          },
          "scene": {
           "xaxis": {
            "backgroundcolor": "#E5ECF6",
            "gridcolor": "white",
            "gridwidth": 2,
            "linecolor": "white",
            "showbackground": true,
            "ticks": "",
            "zerolinecolor": "white"
           },
           "yaxis": {
            "backgroundcolor": "#E5ECF6",
            "gridcolor": "white",
            "gridwidth": 2,
            "linecolor": "white",
            "showbackground": true,
            "ticks": "",
            "zerolinecolor": "white"
           },
           "zaxis": {
            "backgroundcolor": "#E5ECF6",
            "gridcolor": "white",
            "gridwidth": 2,
            "linecolor": "white",
            "showbackground": true,
            "ticks": "",
            "zerolinecolor": "white"
           }
          },
          "shapedefaults": {
           "line": {
            "color": "#2a3f5f"
           }
          },
          "ternary": {
           "aaxis": {
            "gridcolor": "white",
            "linecolor": "white",
            "ticks": ""
           },
           "baxis": {
            "gridcolor": "white",
            "linecolor": "white",
            "ticks": ""
           },
           "bgcolor": "#E5ECF6",
           "caxis": {
            "gridcolor": "white",
            "linecolor": "white",
            "ticks": ""
           }
          },
          "title": {
           "x": 0.05
          },
          "xaxis": {
           "automargin": true,
           "gridcolor": "white",
           "linecolor": "white",
           "ticks": "",
           "title": {
            "standoff": 15
           },
           "zerolinecolor": "white",
           "zerolinewidth": 2
          },
          "yaxis": {
           "automargin": true,
           "gridcolor": "white",
           "linecolor": "white",
           "ticks": "",
           "title": {
            "standoff": 15
           },
           "zerolinecolor": "white",
           "zerolinewidth": 2
          }
         }
        },
        "title": {
         "text": "Top 50 journals cited by grid.251313.7 (Time span 1985-1985)"
        },
        "xaxis": {
         "anchor": "y",
         "autorange": true,
         "domain": [
          0,
          1
         ],
         "range": [
          -0.5,
          49.5
         ],
         "title": {
          "text": "title"
         },
         "type": "category"
        },
        "yaxis": {
         "anchor": "x",
         "autorange": true,
         "domain": [
          0,
          1
         ],
         "range": [
          0,
          12.631578947368421
         ],
         "title": {
          "text": "citations"
         },
         "type": "linear"
        }
       }
      },
      "image/png": "[encoded data removed]",
      "text/html": [
       "<div>                            <div id=\"dbda37b8-9012-4c13-a2b6-5d7183c4ac8f\" class=\"plotly-graph-div\" style=\"height:900px; width:100%;\"></div>            <script type=\"text/javascript\">                require([\"plotly\"], function(Plotly) {                    window.PLOTLYENV=window.PLOTLYENV || {};                                    if (document.getElementById(\"dbda37b8-9012-4c13-a2b6-5d7183c4ac8f\")) {                    Plotly.newPlot(                        \"dbda37b8-9012-4c13-a2b6-5d7183c4ac8f\",                        [{\"alignmentgroup\":\"True\",\"hovertemplate\":\"publisher=American Society of Hematology<br>title=%{x}<br>citations=%{y}<extra></extra>\",\"legendgroup\":\"American Society of Hematology\",\"marker\":{\"color\":\"#636efa\",\"pattern\":{\"shape\":\"\"}},\"name\":\"American Society of Hematology\",\"offsetgroup\":\"American Society of Hematology\",\"orientation\":\"v\",\"showlegend\":true,\"textposition\":\"auto\",\"x\":[\"Blood\"],\"xaxis\":\"x\",\"y\":[12],\"yaxis\":\"y\",\"type\":\"bar\"},{\"alignmentgroup\":\"True\",\"hovertemplate\":\"publisher=Rockefeller University Press<br>title=%{x}<br>citations=%{y}<extra></extra>\",\"legendgroup\":\"Rockefeller University Press\",\"marker\":{\"color\":\"#EF553B\",\"pattern\":{\"shape\":\"\"}},\"name\":\"Rockefeller University Press\",\"offsetgroup\":\"Rockefeller University Press\",\"orientation\":\"v\",\"showlegend\":true,\"textposition\":\"auto\",\"x\":[\"Journal of Cell Biology\"],\"xaxis\":\"x\",\"y\":[10],\"yaxis\":\"y\",\"type\":\"bar\"},{\"alignmentgroup\":\"True\",\"hovertemplate\":\"publisher=Elsevier<br>title=%{x}<br>citations=%{y}<extra></extra>\",\"legendgroup\":\"Elsevier\",\"marker\":{\"color\":\"#00cc96\",\"pattern\":{\"shape\":\"\"}},\"name\":\"Elsevier\",\"offsetgroup\":\"Elsevier\",\"orientation\":\"v\",\"showlegend\":true,\"textposition\":\"auto\",\"x\":[\"Biochimica et Biophysica Acta\",\"Journal of Ultrastructure Research\",\"Journal of Biological Chemistry\",\"Chemistry and Physics of Lipids\",\"Experimental Cell Research\",\"Archives of Biochemistry and Biophysics\",\"Journal of Lipid Research\",\"Toxicology Letters\",\"Biochemical and Biophysical Research Communications\",\"Toxicology and Applied Pharmacology\",\"Journal of Pharmaceutical Sciences\",\"Toxicological Sciences\",\"Leukemia Research\"],\"xaxis\":\"x\",\"y\":[9,6,6,4,3,2,2,2,2,2,2,2,1],\"yaxis\":\"y\",\"type\":\"bar\"},{\"alignmentgroup\":\"True\",\"hovertemplate\":\"publisher=The Endocrine Society<br>title=%{x}<br>citations=%{y}<extra></extra>\",\"legendgroup\":\"The Endocrine Society\",\"marker\":{\"color\":\"#ab63fa\",\"pattern\":{\"shape\":\"\"}},\"name\":\"The Endocrine Society\",\"offsetgroup\":\"The Endocrine Society\",\"orientation\":\"v\",\"showlegend\":true,\"textposition\":\"auto\",\"x\":[\"The Journal of Clinical Endocrinology & Metabolism\"],\"xaxis\":\"x\",\"y\":[9],\"yaxis\":\"y\",\"type\":\"bar\"},{\"alignmentgroup\":\"True\",\"hovertemplate\":\"publisher=American Chemical Society (ACS)<br>title=%{x}<br>citations=%{y}<extra></extra>\",\"legendgroup\":\"American Chemical Society (ACS)\",\"marker\":{\"color\":\"#FFA15A\",\"pattern\":{\"shape\":\"\"}},\"name\":\"American Chemical Society (ACS)\",\"offsetgroup\":\"American Chemical Society (ACS)\",\"orientation\":\"v\",\"showlegend\":true,\"textposition\":\"auto\",\"x\":[\"Journal of Medicinal Chemistry\",\"Journal of the American Chemical Society\",\"Biochemistry\"],\"xaxis\":\"x\",\"y\":[8,4,4],\"yaxis\":\"y\",\"type\":\"bar\"},{\"alignmentgroup\":\"True\",\"hovertemplate\":\"publisher=American Society for Microbiology<br>title=%{x}<br>citations=%{y}<extra></extra>\",\"legendgroup\":\"American Society for Microbiology\",\"marker\":{\"color\":\"#19d3f3\",\"pattern\":{\"shape\":\"\"}},\"name\":\"American Society for Microbiology\",\"offsetgroup\":\"American Society for Microbiology\",\"orientation\":\"v\",\"showlegend\":true,\"textposition\":\"auto\",\"x\":[\"Journal of Bacteriology\",\"Microbiology and Molecular Biology Reviews\"],\"xaxis\":\"x\",\"y\":[8,1],\"yaxis\":\"y\",\"type\":\"bar\"},{\"alignmentgroup\":\"True\",\"hovertemplate\":\"publisher=Springer Nature<br>title=%{x}<br>citations=%{y}<extra></extra>\",\"legendgroup\":\"Springer Nature\",\"marker\":{\"color\":\"#FF6692\",\"pattern\":{\"shape\":\"\"}},\"name\":\"Springer Nature\",\"offsetgroup\":\"Springer Nature\",\"orientation\":\"v\",\"showlegend\":true,\"textposition\":\"auto\",\"x\":[\"Nature\",\"Pediatric Research\",\"Bulletin of Environmental Contamination and Toxicology\",\"The Journal of Membrane Biology\",\"Cell Pathology\",\"Cell and Tissue Research\",\"Seminars in Immunopathology\",\"Molecular and Cellular Biochemistry\"],\"xaxis\":\"x\",\"y\":[6,3,3,2,2,2,2,1],\"yaxis\":\"y\",\"type\":\"bar\"},{\"alignmentgroup\":\"True\",\"hovertemplate\":\"publisher=American Association for the Advancement of Science (AAAS)<br>title=%{x}<br>citations=%{y}<extra></extra>\",\"legendgroup\":\"American Association for the Advancement of Science (AAAS)\",\"marker\":{\"color\":\"#B6E880\",\"pattern\":{\"shape\":\"\"}},\"name\":\"American Association for the Advancement of Science (AAAS)\",\"offsetgroup\":\"American Association for the Advancement of Science (AAAS)\",\"orientation\":\"v\",\"showlegend\":true,\"textposition\":\"auto\",\"x\":[\"Science\"],\"xaxis\":\"x\",\"y\":[5],\"yaxis\":\"y\",\"type\":\"bar\"},{\"alignmentgroup\":\"True\",\"hovertemplate\":\"publisher=American Physiological Society<br>title=%{x}<br>citations=%{y}<extra></extra>\",\"legendgroup\":\"American Physiological Society\",\"marker\":{\"color\":\"#FF97FF\",\"pattern\":{\"shape\":\"\"}},\"name\":\"American Physiological Society\",\"offsetgroup\":\"American Physiological Society\",\"orientation\":\"v\",\"showlegend\":true,\"textposition\":\"auto\",\"x\":[\"American Journal of Physiology\"],\"xaxis\":\"x\",\"y\":[5],\"yaxis\":\"y\",\"type\":\"bar\"},{\"alignmentgroup\":\"True\",\"hovertemplate\":\"publisher=Proceedings of the National Academy of Sciences<br>title=%{x}<br>citations=%{y}<extra></extra>\",\"legendgroup\":\"Proceedings of the National Academy of Sciences\",\"marker\":{\"color\":\"#FECB52\",\"pattern\":{\"shape\":\"\"}},\"name\":\"Proceedings of the National Academy of Sciences\",\"offsetgroup\":\"Proceedings of the National Academy of Sciences\",\"orientation\":\"v\",\"showlegend\":true,\"textposition\":\"auto\",\"x\":[\"Proceedings of the National Academy of Sciences of the United States of America\"],\"xaxis\":\"x\",\"y\":[4],\"yaxis\":\"y\",\"type\":\"bar\"},{\"alignmentgroup\":\"True\",\"hovertemplate\":\"publisher=Wiley<br>title=%{x}<br>citations=%{y}<extra></extra>\",\"legendgroup\":\"Wiley\",\"marker\":{\"color\":\"#636efa\",\"pattern\":{\"shape\":\"\"}},\"name\":\"Wiley\",\"offsetgroup\":\"Wiley\",\"orientation\":\"v\",\"showlegend\":true,\"textposition\":\"auto\",\"x\":[\"British Journal of Haematology\",\"The Journal of Physiology\",\"The FEBS Journal\",\"International Journal of Immunogenetics\",\"Archiv der Pharmazie\",\"Cancer\"],\"xaxis\":\"x\",\"y\":[4,4,3,2,2,2],\"yaxis\":\"y\",\"type\":\"bar\"},{\"alignmentgroup\":\"True\",\"hovertemplate\":\"publisher=American Academy of Pediatrics (AAP)<br>title=%{x}<br>citations=%{y}<extra></extra>\",\"legendgroup\":\"American Academy of Pediatrics (AAP)\",\"marker\":{\"color\":\"#EF553B\",\"pattern\":{\"shape\":\"\"}},\"name\":\"American Academy of Pediatrics (AAP)\",\"offsetgroup\":\"American Academy of Pediatrics (AAP)\",\"orientation\":\"v\",\"showlegend\":true,\"textposition\":\"auto\",\"x\":[\"Pediatrics\"],\"xaxis\":\"x\",\"y\":[3],\"yaxis\":\"y\",\"type\":\"bar\"},{\"alignmentgroup\":\"True\",\"hovertemplate\":\"publisher=American Medical Association (AMA)<br>title=%{x}<br>citations=%{y}<extra></extra>\",\"legendgroup\":\"American Medical Association (AMA)\",\"marker\":{\"color\":\"#00cc96\",\"pattern\":{\"shape\":\"\"}},\"name\":\"American Medical Association (AMA)\",\"offsetgroup\":\"American Medical Association (AMA)\",\"orientation\":\"v\",\"showlegend\":true,\"textposition\":\"auto\",\"x\":[\"JAMA Pediatrics\"],\"xaxis\":\"x\",\"y\":[3],\"yaxis\":\"y\",\"type\":\"bar\"},{\"alignmentgroup\":\"True\",\"hovertemplate\":\"publisher=Oxford University Press (OUP)<br>title=%{x}<br>citations=%{y}<extra></extra>\",\"legendgroup\":\"Oxford University Press (OUP)\",\"marker\":{\"color\":\"#ab63fa\",\"pattern\":{\"shape\":\"\"}},\"name\":\"Oxford University Press (OUP)\",\"offsetgroup\":\"Oxford University Press (OUP)\",\"orientation\":\"v\",\"showlegend\":true,\"textposition\":\"auto\",\"x\":[\"Plant Physiology\",\"Journal of Animal Science\",\"Genetics\",\"Biology of Reproduction\",\"Journal of the National Cancer Institute\"],\"xaxis\":\"x\",\"y\":[3,2,2,2,2],\"yaxis\":\"y\",\"type\":\"bar\"},{\"alignmentgroup\":\"True\",\"hovertemplate\":\"publisher=SAGE Publications<br>title=%{x}<br>citations=%{y}<extra></extra>\",\"legendgroup\":\"SAGE Publications\",\"marker\":{\"color\":\"#FFA15A\",\"pattern\":{\"shape\":\"\"}},\"name\":\"SAGE Publications\",\"offsetgroup\":\"SAGE Publications\",\"orientation\":\"v\",\"showlegend\":true,\"textposition\":\"auto\",\"x\":[\"Journal of Histochemistry & Cytochemistry\"],\"xaxis\":\"x\",\"y\":[3],\"yaxis\":\"y\",\"type\":\"bar\"},{\"alignmentgroup\":\"True\",\"hovertemplate\":\"publisher=The Company of Biologists<br>title=%{x}<br>citations=%{y}<extra></extra>\",\"legendgroup\":\"The Company of Biologists\",\"marker\":{\"color\":\"#19d3f3\",\"pattern\":{\"shape\":\"\"}},\"name\":\"The Company of Biologists\",\"offsetgroup\":\"The Company of Biologists\",\"orientation\":\"v\",\"showlegend\":true,\"textposition\":\"auto\",\"x\":[\"Journal of Cell Science\",\"Journal of Experimental Biology\"],\"xaxis\":\"x\",\"y\":[2,2],\"yaxis\":\"y\",\"type\":\"bar\"},{\"alignmentgroup\":\"True\",\"hovertemplate\":\"publisher=American Society for Clinical Investigation<br>title=%{x}<br>citations=%{y}<extra></extra>\",\"legendgroup\":\"American Society for Clinical Investigation\",\"marker\":{\"color\":\"#FF6692\",\"pattern\":{\"shape\":\"\"}},\"name\":\"American Society for Clinical Investigation\",\"offsetgroup\":\"American Society for Clinical Investigation\",\"orientation\":\"v\",\"showlegend\":true,\"textposition\":\"auto\",\"x\":[\"Journal of Clinical Investigation\"],\"xaxis\":\"x\",\"y\":[2],\"yaxis\":\"y\",\"type\":\"bar\"},{\"alignmentgroup\":\"True\",\"hovertemplate\":\"publisher=BMJ<br>title=%{x}<br>citations=%{y}<extra></extra>\",\"legendgroup\":\"BMJ\",\"marker\":{\"color\":\"#B6E880\",\"pattern\":{\"shape\":\"\"}},\"name\":\"BMJ\",\"offsetgroup\":\"BMJ\",\"orientation\":\"v\",\"showlegend\":true,\"textposition\":\"auto\",\"x\":[\"The BMJ\"],\"xaxis\":\"x\",\"y\":[2],\"yaxis\":\"y\",\"type\":\"bar\"}],                        {\"template\":{\"data\":{\"histogram2dcontour\":[{\"type\":\"histogram2dcontour\",\"colorbar\":{\"outlinewidth\":0,\"ticks\":\"\"},\"colorscale\":[[0.0,\"#0d0887\"],[0.1111111111111111,\"#46039f\"],[0.2222222222222222,\"#7201a8\"],[0.3333333333333333,\"#9c179e\"],[0.4444444444444444,\"#bd3786\"],[0.5555555555555556,\"#d8576b\"],[0.6666666666666666,\"#ed7953\"],[0.7777777777777778,\"#fb9f3a\"],[0.8888888888888888,\"#fdca26\"],[1.0,\"#f0f921\"]]}],\"choropleth\":[{\"type\":\"choropleth\",\"colorbar\":{\"outlinewidth\":0,\"ticks\":\"\"}}],\"histogram2d\":[{\"type\":\"histogram2d\",\"colorbar\":{\"outlinewidth\":0,\"ticks\":\"\"},\"colorscale\":[[0.0,\"#0d0887\"],[0.1111111111111111,\"#46039f\"],[0.2222222222222222,\"#7201a8\"],[0.3333333333333333,\"#9c179e\"],[0.4444444444444444,\"#bd3786\"],[0.5555555555555556,\"#d8576b\"],[0.6666666666666666,\"#ed7953\"],[0.7777777777777778,\"#fb9f3a\"],[0.8888888888888888,\"#fdca26\"],[1.0,\"#f0f921\"]]}],\"heatmap\":[{\"type\":\"heatmap\",\"colorbar\":{\"outlinewidth\":0,\"ticks\":\"\"},\"colorscale\":[[0.0,\"#0d0887\"],[0.1111111111111111,\"#46039f\"],[0.2222222222222222,\"#7201a8\"],[0.3333333333333333,\"#9c179e\"],[0.4444444444444444,\"#bd3786\"],[0.5555555555555556,\"#d8576b\"],[0.6666666666666666,\"#ed7953\"],[0.7777777777777778,\"#fb9f3a\"],[0.8888888888888888,\"#fdca26\"],[1.0,\"#f0f921\"]]}],\"heatmapgl\":[{\"type\":\"heatmapgl\",\"colorbar\":{\"outlinewidth\":0,\"ticks\":\"\"},\"colorscale\":[[0.0,\"#0d0887\"],[0.1111111111111111,\"#46039f\"],[0.2222222222222222,\"#7201a8\"],[0.3333333333333333,\"#9c179e\"],[0.4444444444444444,\"#bd3786\"],[0.5555555555555556,\"#d8576b\"],[0.6666666666666666,\"#ed7953\"],[0.7777777777777778,\"#fb9f3a\"],[0.8888888888888888,\"#fdca26\"],[1.0,\"#f0f921\"]]}],\"contourcarpet\":[{\"type\":\"contourcarpet\",\"colorbar\":{\"outlinewidth\":0,\"ticks\":\"\"}}],\"contour\":[{\"type\":\"contour\",\"colorbar\":{\"outlinewidth\":0,\"ticks\":\"\"},\"colorscale\":[[0.0,\"#0d0887\"],[0.1111111111111111,\"#46039f\"],[0.2222222222222222,\"#7201a8\"],[0.3333333333333333,\"#9c179e\"],[0.4444444444444444,\"#bd3786\"],[0.5555555555555556,\"#d8576b\"],[0.6666666666666666,\"#ed7953\"],[0.7777777777777778,\"#fb9f3a\"],[0.8888888888888888,\"#fdca26\"],[1.0,\"#f0f921\"]]}],\"surface\":[{\"type\":\"surface\",\"colorbar\":{\"outlinewidth\":0,\"ticks\":\"\"},\"colorscale\":[[0.0,\"#0d0887\"],[0.1111111111111111,\"#46039f\"],[0.2222222222222222,\"#7201a8\"],[0.3333333333333333,\"#9c179e\"],[0.4444444444444444,\"#bd3786\"],[0.5555555555555556,\"#d8576b\"],[0.6666666666666666,\"#ed7953\"],[0.7777777777777778,\"#fb9f3a\"],[0.8888888888888888,\"#fdca26\"],[1.0,\"#f0f921\"]]}],\"mesh3d\":[{\"type\":\"mesh3d\",\"colorbar\":{\"outlinewidth\":0,\"ticks\":\"\"}}],\"scatter\":[{\"fillpattern\":{\"fillmode\":\"overlay\",\"size\":10,\"solidity\":0.2},\"type\":\"scatter\"}],\"parcoords\":[{\"type\":\"parcoords\",\"line\":{\"colorbar\":{\"outlinewidth\":0,\"ticks\":\"\"}}}],\"scatterpolargl\":[{\"type\":\"scatterpolargl\",\"marker\":{\"colorbar\":{\"outlinewidth\":0,\"ticks\":\"\"}}}],\"bar\":[{\"error_x\":{\"color\":\"#2a3f5f\"},\"error_y\":{\"color\":\"#2a3f5f\"},\"marker\":{\"line\":{\"color\":\"#E5ECF6\",\"width\":0.5},\"pattern\":{\"fillmode\":\"overlay\",\"size\":10,\"solidity\":0.2}},\"type\":\"bar\"}],\"scattergeo\":[{\"type\":\"scattergeo\",\"marker\":{\"colorbar\":{\"outlinewidth\":0,\"ticks\":\"\"}}}],\"scatterpolar\":[{\"type\":\"scatterpolar\",\"marker\":{\"colorbar\":{\"outlinewidth\":0,\"ticks\":\"\"}}}],\"histogram\":[{\"marker\":{\"pattern\":{\"fillmode\":\"overlay\",\"size\":10,\"solidity\":0.2}},\"type\":\"histogram\"}],\"scattergl\":[{\"type\":\"scattergl\",\"marker\":{\"colorbar\":{\"outlinewidth\":0,\"ticks\":\"\"}}}],\"scatter3d\":[{\"type\":\"scatter3d\",\"line\":{\"colorbar\":{\"outlinewidth\":0,\"ticks\":\"\"}},\"marker\":{\"colorbar\":{\"outlinewidth\":0,\"ticks\":\"\"}}}],\"scattermapbox\":[{\"type\":\"scattermapbox\",\"marker\":{\"colorbar\":{\"outlinewidth\":0,\"ticks\":\"\"}}}],\"scatterternary\":[{\"type\":\"scatterternary\",\"marker\":{\"colorbar\":{\"outlinewidth\":0,\"ticks\":\"\"}}}],\"scattercarpet\":[{\"type\":\"scattercarpet\",\"marker\":{\"colorbar\":{\"outlinewidth\":0,\"ticks\":\"\"}}}],\"carpet\":[{\"aaxis\":{\"endlinecolor\":\"#2a3f5f\",\"gridcolor\":\"white\",\"linecolor\":\"white\",\"minorgridcolor\":\"white\",\"startlinecolor\":\"#2a3f5f\"},\"baxis\":{\"endlinecolor\":\"#2a3f5f\",\"gridcolor\":\"white\",\"linecolor\":\"white\",\"minorgridcolor\":\"white\",\"startlinecolor\":\"#2a3f5f\"},\"type\":\"carpet\"}],\"table\":[{\"cells\":{\"fill\":{\"color\":\"#EBF0F8\"},\"line\":{\"color\":\"white\"}},\"header\":{\"fill\":{\"color\":\"#C8D4E3\"},\"line\":{\"color\":\"white\"}},\"type\":\"table\"}],\"barpolar\":[{\"marker\":{\"line\":{\"color\":\"#E5ECF6\",\"width\":0.5},\"pattern\":{\"fillmode\":\"overlay\",\"size\":10,\"solidity\":0.2}},\"type\":\"barpolar\"}],\"pie\":[{\"automargin\":true,\"type\":\"pie\"}]},\"layout\":{\"autotypenumbers\":\"strict\",\"colorway\":[\"#636efa\",\"#EF553B\",\"#00cc96\",\"#ab63fa\",\"#FFA15A\",\"#19d3f3\",\"#FF6692\",\"#B6E880\",\"#FF97FF\",\"#FECB52\"],\"font\":{\"color\":\"#2a3f5f\"},\"hovermode\":\"closest\",\"hoverlabel\":{\"align\":\"left\"},\"paper_bgcolor\":\"white\",\"plot_bgcolor\":\"#E5ECF6\",\"polar\":{\"bgcolor\":\"#E5ECF6\",\"angularaxis\":{\"gridcolor\":\"white\",\"linecolor\":\"white\",\"ticks\":\"\"},\"radialaxis\":{\"gridcolor\":\"white\",\"linecolor\":\"white\",\"ticks\":\"\"}},\"ternary\":{\"bgcolor\":\"#E5ECF6\",\"aaxis\":{\"gridcolor\":\"white\",\"linecolor\":\"white\",\"ticks\":\"\"},\"baxis\":{\"gridcolor\":\"white\",\"linecolor\":\"white\",\"ticks\":\"\"},\"caxis\":{\"gridcolor\":\"white\",\"linecolor\":\"white\",\"ticks\":\"\"}},\"coloraxis\":{\"colorbar\":{\"outlinewidth\":0,\"ticks\":\"\"}},\"colorscale\":{\"sequential\":[[0.0,\"#0d0887\"],[0.1111111111111111,\"#46039f\"],[0.2222222222222222,\"#7201a8\"],[0.3333333333333333,\"#9c179e\"],[0.4444444444444444,\"#bd3786\"],[0.5555555555555556,\"#d8576b\"],[0.6666666666666666,\"#ed7953\"],[0.7777777777777778,\"#fb9f3a\"],[0.8888888888888888,\"#fdca26\"],[1.0,\"#f0f921\"]],\"sequentialminus\":[[0.0,\"#0d0887\"],[0.1111111111111111,\"#46039f\"],[0.2222222222222222,\"#7201a8\"],[0.3333333333333333,\"#9c179e\"],[0.4444444444444444,\"#bd3786\"],[0.5555555555555556,\"#d8576b\"],[0.6666666666666666,\"#ed7953\"],[0.7777777777777778,\"#fb9f3a\"],[0.8888888888888888,\"#fdca26\"],[1.0,\"#f0f921\"]],\"diverging\":[[0,\"#8e0152\"],[0.1,\"#c51b7d\"],[0.2,\"#de77ae\"],[0.3,\"#f1b6da\"],[0.4,\"#fde0ef\"],[0.5,\"#f7f7f7\"],[0.6,\"#e6f5d0\"],[0.7,\"#b8e186\"],[0.8,\"#7fbc41\"],[0.9,\"#4d9221\"],[1,\"#276419\"]]},\"xaxis\":{\"gridcolor\":\"white\",\"linecolor\":\"white\",\"ticks\":\"\",\"title\":{\"standoff\":15},\"zerolinecolor\":\"white\",\"automargin\":true,\"zerolinewidth\":2},\"yaxis\":{\"gridcolor\":\"white\",\"linecolor\":\"white\",\"ticks\":\"\",\"title\":{\"standoff\":15},\"zerolinecolor\":\"white\",\"automargin\":true,\"zerolinewidth\":2},\"scene\":{\"xaxis\":{\"backgroundcolor\":\"#E5ECF6\",\"gridcolor\":\"white\",\"linecolor\":\"white\",\"showbackground\":true,\"ticks\":\"\",\"zerolinecolor\":\"white\",\"gridwidth\":2},\"yaxis\":{\"backgroundcolor\":\"#E5ECF6\",\"gridcolor\":\"white\",\"linecolor\":\"white\",\"showbackground\":true,\"ticks\":\"\",\"zerolinecolor\":\"white\",\"gridwidth\":2},\"zaxis\":{\"backgroundcolor\":\"#E5ECF6\",\"gridcolor\":\"white\",\"linecolor\":\"white\",\"showbackground\":true,\"ticks\":\"\",\"zerolinecolor\":\"white\",\"gridwidth\":2}},\"shapedefaults\":{\"line\":{\"color\":\"#2a3f5f\"}},\"annotationdefaults\":{\"arrowcolor\":\"#2a3f5f\",\"arrowhead\":0,\"arrowwidth\":1},\"geo\":{\"bgcolor\":\"white\",\"landcolor\":\"#E5ECF6\",\"subunitcolor\":\"white\",\"showland\":true,\"showlakes\":true,\"lakecolor\":\"white\"},\"title\":{\"x\":0.05},\"mapbox\":{\"style\":\"light\"}}},\"xaxis\":{\"anchor\":\"y\",\"domain\":[0.0,1.0],\"title\":{\"text\":\"title\"}},\"yaxis\":{\"anchor\":\"x\",\"domain\":[0.0,1.0],\"title\":{\"text\":\"citations\"}},\"legend\":{\"title\":{\"text\":\"publisher\"},\"tracegroupgap\":0},\"title\":{\"text\":\"Top 50 journals cited by grid.251313.7 (Time span 1985-1985)\"},\"barmode\":\"relative\",\"height\":900},                        {\"responsive\": true}                    ).then(function(){\n",
       "                            \n",
       "var gd = document.getElementById('dbda37b8-9012-4c13-a2b6-5d7183c4ac8f');\n",
       "var x = new MutationObserver(function (mutations, observer) {{\n",
       "        var display = window.getComputedStyle(gd).display;\n",
       "        if (!display || display === 'none') {{\n",
       "            console.log([gd, 'removed!']);\n",
       "            Plotly.purge(gd);\n",
       "            observer.disconnect();\n",
       "        }}\n",
       "}});\n",
       "\n",
       "// Listen for the removal of the full notebook cells\n",
       "var notebookContainer = gd.closest('#notebook-container');\n",
       "if (notebookContainer) {{\n",
       "    x.observe(notebookContainer, {childList: true});\n",
       "}}\n",
       "\n",
       "// Listen for the clearing of the current output cell\n",
       "var outputEl = gd.closest('.output');\n",
       "if (outputEl) {{\n",
       "    x.observe(outputEl, {childList: true});\n",
       "}}\n",
       "\n",
       "                        })                };                });            </script>        </div>"
      ]
     },
     "metadata": {},
     "output_type": "display_data"
    }
   ],
   "source": [
    "px.bar(journals[:50],\n",
    "       x=\"title\", y=\"citations\", color=\"publisher\",\n",
    "       height=900,\n",
    "       title=f\"Top 50 journals cited by {GRIDID} (Time span {YEAR_START}-{YEAR_END})\")"
   ]
  },
  {
   "cell_type": "markdown",
   "id": "3b853a99-67ba-417e-8f3c-934b2ed25bdf",
   "metadata": {},
   "source": [
    "## Journal Lookup - Has Anyone Cited This Journal?"
   ]
  },
  {
   "cell_type": "markdown",
   "id": "f9962321-3666-4ee0-a9c5-c615adf363a5",
   "metadata": {},
   "source": [
    "Search through the list of journal ids for the specified timeframe. If it matches a particular journal, pull the UM-affiliated authors"
   ]
  },
  {
   "cell_type": "code",
   "execution_count": 13,
   "id": "3e7b6583-1319-4591-9282-088f51d9fe1b",
   "metadata": {},
   "outputs": [
    {
     "name": "stdout",
     "output_type": "stream",
     "text": [
      "This journal (journal id jour.1050134) was not cited by UM authors.\n"
     ]
    }
   ],
   "source": [
    "JOUR_ID_LOOKUP = \"jour.1050134\"\n",
    "\n",
    "cited_count = 0\n",
    "index = 0\n",
    "um_authors = []\n",
    "author_count = 0\n",
    "\n",
    "for id in list(pubs_cited[\"journal.id\"]):\n",
    "    if id == JOUR_ID_LOOKUP:  # check if the journal appears in the overall citations list\n",
    "        cited_count = cited_count + 1\n",
    "        all_authors = pubs_cited[\"authors\"][index]  # pull a list of the authors of the paper that cited the journal\n",
    "\n",
    "        for author in all_authors:\n",
    "            if author[\"affiliations\"][0][\"id\"] == GRIDID:  # check if they are a UM author\n",
    "                um_author = f'{author[\"first_name\"]} {author[\"last_name\"]}'\n",
    "                um_affil = author[\"raw_affiliation\"]\n",
    "                if um_author not in um_authors:  # check if this author is already on the list\n",
    "                    um_authors.append(um_author)  # if not, add them\n",
    "                    um_authors.append(um_affil)  # and any departmental information they provided\n",
    "                    author_count = author_count + 1\n",
    "    \n",
    "    index = index + 1\n",
    "\n",
    "if cited_count > 0:\n",
    "    print(f'Journal was cited in {cited_count} publications by {author_count} UM authors:',\"\\n\")\n",
    "    for author in um_authors:\n",
    "        print(author, '\\n')\n",
    "else:\n",
    "    print(f'This journal (journal id {JOUR_ID_LOOKUP}) was not cited by UM authors.')"
   ]
  },
  {
   "cell_type": "markdown",
   "id": "1f59c8fc-9abc-4817-87bf-32cbcbd0f652",
   "metadata": {},
   "source": [
    "## Export the data to Excel"
   ]
  },
  {
   "cell_type": "code",
   "execution_count": 14,
   "id": "3e7e0c76-adc7-4a4f-822f-0ebea1f7c28e",
   "metadata": {},
   "outputs": [
    {
     "name": "stdout",
     "output_type": "stream",
     "text": [
      "Do you want to generate an Excel file of all UM publications for 1985 to 1985? Y/N\n"
     ]
    },
    {
     "name": "stdin",
     "output_type": "stream",
     "text": [
      " n\n"
     ]
    },
    {
     "name": "stdout",
     "output_type": "stream",
     "text": [
      "No Excel file will be generated. \n",
      "\n",
      "Do you want to generate an Excel file of all references & citation ages in UM publications for 1985 to 1985? Y/N \n",
      " WARNING: This may be a very large file\n"
     ]
    },
    {
     "name": "stdin",
     "output_type": "stream",
     "text": [
      " n\n"
     ]
    },
    {
     "name": "stdout",
     "output_type": "stream",
     "text": [
      "No Excel file will be generated. \n",
      "\n"
     ]
    }
   ],
   "source": [
    "print(f'Do you want to generate an Excel file of all UM publications for {YEAR_START} to {YEAR_END}? Y/N')\n",
    "excel_UM_pubs = input()\n",
    "if excel_UM_pubs in [\"Y\", \"y\", \"yes\", \"Yes\"]:\n",
    "    print(\"Saving Excel file...\")\n",
    "    pubs_and_citations.to_excel(f\"UM_pubs_{YEAR_START}_to_{YEAR_END}.xlsx\")\n",
    "    print(\"File saved.\", \"\\n\")\n",
    "else:\n",
    "    print(\"No Excel file will be generated.\", \"\\n\")\n",
    "\n",
    "\n",
    "print(f'Do you want to generate an Excel file of all references & citation ages in UM publications for {YEAR_START} to {YEAR_END}? Y/N', \n",
    "      \"\\n\" ,\"WARNING: This may be a very large file\")\n",
    "excel_UM_refs = input()\n",
    "if excel_UM_refs in [\"Y\", \"y\", \"yes\", \"Yes\"]:\n",
    "    print(\"Saving Excel file...\")\n",
    "    pubs_cited.to_excel(f\"References_in_UM_pubs_{YEAR_START}_to_{YEAR_END}.xlsx\")\n",
    "    print(\"File saved.\", \"\\n\")\n",
    "else:\n",
    "    print(\"No Excel file will be generated.\", \"\\n\")"
   ]
  }
 ],
 "metadata": {
  "kernelspec": {
   "display_name": "Python 3 (ipykernel)",
   "language": "python",
   "name": "python3"
  },
  "language_info": {
   "codemirror_mode": {
    "name": "ipython",
    "version": 3
   },
   "file_extension": ".py",
   "mimetype": "text/x-python",
   "name": "python",
   "nbconvert_exporter": "python",
   "pygments_lexer": "ipython3",
   "version": "3.11.5"
  }
 },
 "nbformat": 4,
 "nbformat_minor": 5
}
